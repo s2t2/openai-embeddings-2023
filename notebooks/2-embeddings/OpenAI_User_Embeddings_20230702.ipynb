{
  "nbformat": 4,
  "nbformat_minor": 0,
  "metadata": {
    "colab": {
      "provenance": [],
      "collapsed_sections": [
        "MUvB96JCMeBs",
        "0HtK9X_sMyff",
        "Uvuxx8mtnQXp",
        "XBRkKp9phDU9"
      ],
      "toc_visible": true,
      "authorship_tag": "ABX9TyPBOgr1T78EOOYb+CarAK5s",
      "include_colab_link": true
    },
    "kernelspec": {
      "name": "python3",
      "display_name": "Python 3"
    },
    "language_info": {
      "name": "python"
    }
  },
  "cells": [
    {
      "cell_type": "markdown",
      "metadata": {
        "id": "view-in-github",
        "colab_type": "text"
      },
      "source": [
        "<a href=\"https://colab.research.google.com/github/s2t2/openai-embeddings-2023/blob/main/notebooks/2-embeddings/OpenAI_User_Embeddings_20230702.ipynb\" target=\"_parent\"><img src=\"https://colab.research.google.com/assets/colab-badge.svg\" alt=\"Open In Colab\"/></a>"
      ]
    },
    {
      "cell_type": "markdown",
      "source": [
        "In this notebook we load a previously-pulled sample of users and their tweets stored in a CSV file on drive, then request embeddings from OpenAI, and save the embeddings back to a new CSV file in drive."
      ],
      "metadata": {
        "id": "WsB5odEcVS8x"
      }
    },
    {
      "cell_type": "markdown",
      "source": [
        "## Setup"
      ],
      "metadata": {
        "id": "kHebrTlZF1oc"
      }
    },
    {
      "cell_type": "markdown",
      "source": [
        "### Google Drive"
      ],
      "metadata": {
        "id": "Uvuxx8mtnQXp"
      }
    },
    {
      "cell_type": "code",
      "source": [
        "import os\n",
        "from google.colab import drive\n",
        "\n",
        "drive.mount('/content/drive')\n",
        "print(os.getcwd(), os.listdir(os.getcwd())) #> 'content', ['.config', 'drive', 'sample_data']"
      ],
      "metadata": {
        "colab": {
          "base_uri": "https://localhost:8080/"
        },
        "id": "oSR5YnqinRvs",
        "outputId": "fcd9ac93-8413-4818-d730-342a7e4690bd"
      },
      "execution_count": 1,
      "outputs": [
        {
          "output_type": "stream",
          "name": "stdout",
          "text": [
            "Mounted at /content/drive\n",
            "/content ['.config', 'drive', 'sample_data']\n"
          ]
        }
      ]
    },
    {
      "cell_type": "code",
      "source": [
        "# you might need to create a google drive SHORTCUT that has this same path\n",
        "# ... or update the path to use your own google drive organization\n",
        "DATA_DIR = '/content/drive/MyDrive/Research/DS Research Shared 2023/data/impeachment_2020'\n",
        "print(DATA_DIR)\n",
        "assert os.path.isdir(DATA_DIR)"
      ],
      "metadata": {
        "colab": {
          "base_uri": "https://localhost:8080/"
        },
        "id": "14YeF9uInuIf",
        "outputId": "71674f75-c811-43ce-94a8-88f53793eaa1"
      },
      "execution_count": 2,
      "outputs": [
        {
          "output_type": "stream",
          "name": "stdout",
          "text": [
            "/content/drive/MyDrive/Research/DS Research Shared 2023/data/impeachment_2020\n"
          ]
        }
      ]
    },
    {
      "cell_type": "code",
      "source": [
        "# using larger sample:\n",
        "users_sample_csv_filepath = os.path.join(DATA_DIR, \"users_sample_by_account_type_20230702_3000_min_10_max_30_tweets.csv\")\n",
        "assert os.path.isfile(users_sample_csv_filepath)"
      ],
      "metadata": {
        "id": "EgJ2vIe8n-Ra"
      },
      "execution_count": 3,
      "outputs": []
    },
    {
      "cell_type": "markdown",
      "source": [
        "### OpenAI API Service"
      ],
      "metadata": {
        "id": "XBRkKp9phDU9"
      }
    },
    {
      "cell_type": "code",
      "source": [
        "%%capture\n",
        "\n",
        "!pip install openai"
      ],
      "metadata": {
        "id": "JlF538CH-ZX2"
      },
      "execution_count": 4,
      "outputs": []
    },
    {
      "cell_type": "code",
      "source": [
        "from getpass import getpass\n",
        "\n",
        "OPENAI_API_KEY = getpass(\"Please provide your OpenAI API Key: \")\n",
        "print(\"...\", OPENAI_API_KEY[-4:])"
      ],
      "metadata": {
        "colab": {
          "base_uri": "https://localhost:8080/"
        },
        "id": "8l-Q4hI4fq6-",
        "outputId": "10e34328-bfc2-48e5-9433-0a43b6dfe5d2"
      },
      "execution_count": 5,
      "outputs": [
        {
          "output_type": "stream",
          "name": "stdout",
          "text": [
            "Please provide your OpenAI API Key: ··········\n",
            "... AysE\n"
          ]
        }
      ]
    },
    {
      "cell_type": "markdown",
      "source": [
        "\n",
        "  + https://github.com/openai/openai-python\n",
        "  + https://platform.openai.com/account/api-keys\n",
        "  + https://platform.openai.com/docs/introduction/key-concepts\n",
        "  + https://platform.openai.com/docs/models/overview\n",
        "  + https://platform.openai.com/docs/guides/embeddings/what-are-embeddings\n",
        "  + https://platform.openai.com/docs/guides/embeddings/embedding-models\n",
        "\n",
        "> We recommend using `text-embedding-ada-002` for nearly all\n",
        " (Embedding) use cases. It's better, cheaper, and simpler to use. Read the blog post announcement.\n"
      ],
      "metadata": {
        "id": "nQJuXFkGJ7V0"
      }
    },
    {
      "cell_type": "code",
      "source": [
        "import openai\n",
        "from openai import Model, Embedding\n",
        "from pandas import DataFrame\n",
        "\n",
        "openai.api_key = OPENAI_API_KEY\n",
        "\n",
        "MODEL_ID = \"text-embedding-ada-002\"\n",
        "\n",
        "class OpenAIService():\n",
        "    def __init__(self, model_id=MODEL_ID):\n",
        "        self.model_id = model_id\n",
        "\n",
        "    def get_models(self):\n",
        "        models = Model.list()\n",
        "        #print(type(models)) #> openai.openai_object.OpenAIObject\n",
        "\n",
        "        records = []\n",
        "        for model in sorted(models.data, key=lambda m: m.id):\n",
        "            #print(model.id, \"...\", model.owned_by, \"...\", model.parent, \"...\", model.object)\n",
        "            model_info = model.to_dict()\n",
        "            del model_info[\"permission\"] # nested list\n",
        "            #print(model_info)\n",
        "            records.append(model_info)\n",
        "\n",
        "        models_df = DataFrame(records)\n",
        "        #models_df.to_csv(\"openai_models.csv\")\n",
        "        #models_df.sort_values(by=[\"id\"])\n",
        "        return models_df\n",
        "\n",
        "    def get_embeddings(self, texts):\n",
        "        \"\"\"Pass in a list of strings. Returns a list of embeddings for each.\"\"\"\n",
        "        result = Embedding.create(input=texts, model=MODEL_ID)\n",
        "        #print(len(result[\"data\"]))\n",
        "        return [d[\"embedding\"] for d in result[\"data\"]]\n",
        "\n",
        "\n",
        "ai = OpenAIService()"
      ],
      "metadata": {
        "id": "MdwUZT30fxJb"
      },
      "execution_count": 6,
      "outputs": []
    },
    {
      "cell_type": "code",
      "source": [
        "#models_df = ai.get_models()\n",
        "#models_df.head()"
      ],
      "metadata": {
        "id": "jOjdaxeghKtn"
      },
      "execution_count": null,
      "outputs": []
    },
    {
      "cell_type": "code",
      "source": [
        "texts = [\n",
        "    \"I like apples, but bananas are gross.\",\n",
        "    \"This is a tweet about bananas\",\n",
        "    \"Drink apple juice!\",\n",
        "]\n",
        "embeddings = ai.get_embeddings(texts)\n",
        "print(len(embeddings))\n",
        "print(len(embeddings[0]))"
      ],
      "metadata": {
        "colab": {
          "base_uri": "https://localhost:8080/"
        },
        "id": "c5hsctu0hLGY",
        "outputId": "a3c13599-9936-4b63-fde1-8060c3739962"
      },
      "execution_count": 7,
      "outputs": [
        {
          "output_type": "stream",
          "name": "stdout",
          "text": [
            "3\n",
            "1536\n"
          ]
        }
      ]
    },
    {
      "cell_type": "code",
      "source": [
        "from pandas import Series\n",
        "\n",
        "Series(embeddings, index=texts)"
      ],
      "metadata": {
        "colab": {
          "base_uri": "https://localhost:8080/"
        },
        "id": "wq9vWubye34t",
        "outputId": "3802b35d-58bc-4426-d7ca-6eaccfc7fe14"
      },
      "execution_count": 8,
      "outputs": [
        {
          "output_type": "execute_result",
          "data": {
            "text/plain": [
              "I like apples, but bananas are gross.    [-0.00504452595487237, -0.01719384267926216, 0...\n",
              "This is a tweet about bananas            [-0.014693296514451504, -0.019133443012833595,...\n",
              "Drink apple juice!                       [0.004055480472743511, -0.01426590234041214, 0...\n",
              "dtype: object"
            ]
          },
          "metadata": {},
          "execution_count": 8
        }
      ]
    },
    {
      "cell_type": "markdown",
      "source": [
        "## Users Sample"
      ],
      "metadata": {
        "id": "z-1bJ88ylSbz"
      }
    },
    {
      "cell_type": "markdown",
      "source": [
        "Fetch a sample of users. Use the balanced sample we already prepared.\n",
        "\n"
      ],
      "metadata": {
        "id": "3DoqfRxilcs6"
      }
    },
    {
      "cell_type": "code",
      "source": [
        "from pandas import read_csv\n",
        "\n",
        "def remove_delimeters(txt):\n",
        "    return txt.replace(\" || \", \" \")\n",
        "\n",
        "users_df = read_csv(users_sample_csv_filepath)\n",
        "users_df.drop(columns=[\"Unnamed: 0\"], inplace=True, errors=\"ignore\")\n",
        "users_df.index = users_df[\"user_id\"]\n",
        "# remove delimeters inserted during the data export process:\n",
        "users_df[\"tweet_texts\"] = users_df[\"tweet_texts\"].apply(remove_delimeters).tolist()\n",
        "\n",
        "print(len(users_df))\n",
        "print(users_df.columns)\n",
        "users_df.iloc[0]"
      ],
      "metadata": {
        "colab": {
          "base_uri": "https://localhost:8080/"
        },
        "id": "_O_pkeoipYjm",
        "outputId": "b5ca5e4c-4f08-4542-d4b3-5e59d9f3af7e"
      },
      "execution_count": 9,
      "outputs": [
        {
          "output_type": "stream",
          "name": "stdout",
          "text": [
            "3000\n",
            "Index(['user_id', 'created_on', 'screen_name_count', 'screen_names',\n",
            "       'status_count', 'rt_count', 'rt_pct', 'opinion_community', 'is_bot',\n",
            "       'is_q', 'profile_descriptions', 'tweet_texts'],\n",
            "      dtype='object')\n"
          ]
        },
        {
          "output_type": "execute_result",
          "data": {
            "text/plain": [
              "user_id                                                824346638391136271\n",
              "created_on                                                     2017-01-25\n",
              "screen_name_count                                                       1\n",
              "screen_names                                                 ROGUEBARKEEP\n",
              "status_count                                                           25\n",
              "rt_count                                                                5\n",
              "rt_pct                                                                0.2\n",
              "opinion_community                                                       0\n",
              "is_bot                                                              False\n",
              "is_q                                                                False\n",
              "profile_descriptions    TRAINER OF CIRCUS SHRIMP - LOVER OF @PIZZAPUFF...\n",
              "tweet_texts             @realDonaldTrump THIS IS WHY WE NEEDED IMPEACH...\n",
              "Name: 824346638391136271, dtype: object"
            ]
          },
          "metadata": {},
          "execution_count": 9
        }
      ]
    },
    {
      "cell_type": "code",
      "source": [
        "#users_df[\"profile_descriptions\"].tolist()[0:5]"
      ],
      "metadata": {
        "id": "HB52cdaMqVJe"
      },
      "execution_count": null,
      "outputs": []
    },
    {
      "cell_type": "code",
      "source": [
        "#users_df[\"tweet_texts\"].tolist()[0:5]"
      ],
      "metadata": {
        "id": "hrlMUVVkqcN9"
      },
      "execution_count": null,
      "outputs": []
    },
    {
      "cell_type": "markdown",
      "source": [
        "## Embeddings"
      ],
      "metadata": {
        "id": "K8KzclkGsNX9"
      }
    },
    {
      "cell_type": "markdown",
      "source": [
        "NOTE: Series is not JSON serializable, so we will request the embeddings for a list of strings instead."
      ],
      "metadata": {
        "id": "rtCkVIozkY01"
      }
    },
    {
      "cell_type": "markdown",
      "source": [
        "Also we will need to mind the rate limits, by processing the embeddings in batches."
      ],
      "metadata": {
        "id": "_X54_t6iF0UT"
      }
    },
    {
      "cell_type": "code",
      "source": [
        "def split_into_batches(my_list, batch_size=10_000):\n",
        "    \"\"\"Splits a list into evenly sized batches\"\"\"\n",
        "    # h/t: https://stackoverflow.com/questions/312443/how-do-you-split-a-list-into-evenly-sized-chunks\n",
        "    for i in range(0, len(my_list), batch_size):\n",
        "        yield my_list[i : i + batch_size]\n"
      ],
      "metadata": {
        "id": "rwN_fKIJF5FF"
      },
      "execution_count": 16,
      "outputs": []
    },
    {
      "cell_type": "markdown",
      "source": [
        "### Tweet Embeddings"
      ],
      "metadata": {
        "id": "QQtbgmkff5x_"
      }
    },
    {
      "cell_type": "code",
      "source": [
        "tweets_df =  users_df[users_df[\"tweet_texts\"].notnull()][[\"user_id\", \"tweet_texts\"]]"
      ],
      "metadata": {
        "id": "iUlIgOiHhY_N"
      },
      "execution_count": 13,
      "outputs": []
    },
    {
      "cell_type": "code",
      "source": [
        "tweet_texts = tweets_df[\"tweet_texts\"].tolist()\n",
        "print(\"TWEET TEXTS:\", len(tweet_texts))\n",
        "print(tweet_texts[0:5])"
      ],
      "metadata": {
        "colab": {
          "base_uri": "https://localhost:8080/"
        },
        "id": "avH5aoqKjAIv",
        "outputId": "50260455-ade1-4139-ab20-59655ee97bda"
      },
      "execution_count": 14,
      "outputs": [
        {
          "output_type": "stream",
          "name": "stdout",
          "text": [
            "TWEET TEXTS: 3000\n",
            "['@realDonaldTrump THIS IS WHY WE NEEDED IMPEACHMENT! Actually, I think this is Trump\\'s burner account RT @KellyannePolls: You can\\'t #impeach the incredible @realDonaldTrump economy! https://t.co/zqajSactyN @marcorubio Should have voted for impeachment RT @ChrisJansing: This is a very big number for GOP to ignore:   Voters say 75 to 20 percent that witnesses should be allowed to testify in… @Ehoss84 @EricTrump You mean my Impeached President. Didn\\'t have time to read, but still voted no to impeach. Should have sold last week @lisamurkowski - now you\\'re stuck with worthless stock! Awkward.  CC:  @KellyannePolls RT @dave_brown24: Quite the nugget in this WSJ story ---&gt;  \"Mr. Trump, after the strike, told associates he was under pressure to deal with… I don\\'t really want to add to your troubles and concerns @SenatorCollins and I know you said that it wouldn\\'t be appropriate for Trump to retaliate and that maybe he should apologize but... Middle of a public health crisis and man baby is worried only about his Ego.  #snowflake @hogangidley45 Narrator:  Obama wasn\\'t impeached and trying to bribe Senators to vote in his favor. Hey @senategop - you want a revote on those impeachment articles?  You should!  #VoteThemAllOut @jwgop @JRubinBlogger Impeached Pandemic Bungler For once, he was actually telling the truth! @ChrisBuryNews @JamieOGrady THANK YOU!  Also, in January, Blago decided to speak out on Trump\\'s behalf regarding impeachment:  https://t.co/akrqRLRESD RT @jpb1467: @ShannonFreshour @DAL_Pittsburgh Folks let’s help @ShannonFreshour beat PEDOPHILE PROTECTOR @Jim_Jordan! Not only does he PROT… @WhiteHouse @POTUS @realDonaldTrump Impeachment Baby! @marcorubio You could have done all that  in January and voted for impeachment. But you didn’t. @KellyannePolls @realDonaldTrump But you can #impeach the #quidproquo #ObstructionOfJustice RT @ilyseh: Great thread for everyone following #ImpeachmentEve https://t.co/9BChbvxvkN cc:  @MikeLeeforUtah @SenMikeLee - this is why they couldn\\'t tell you WHY.  Again, just go ask the Mar-A-Lago buffet line.  They could probably tell you more than Pompeo and Esper What\\'s \"important\"  @SenatorCollins is that for once, you get your head out of your butt and do what is right for this country. cc:  @SenatorCollins @lisamurkowski - yeah, he totally \"learned his lesson\"', 'RT @SethAbramson: BREAKING NEWS: All Four Roger Stone Federal Prosecutors Have Now Resigned in An Apparent Protest Against Trump and Barr\\'s… Impeachment may have failed to oust Trump. But there\\'s still a long way to go before November, and there\\'s plenty of time to incriminate Trump. RT @matthewamiller: The president is a terrible human being who does the worst possible thing in nearly every situation. We’ve known this f… RT @tribelaw: “Dems are warning Republicans they will be judged harshly by history. But in the meantime, the triumphant Republicans get to… It would take Russia to tell them to. What does Marco Rubio actually do? The Iran war of political necessity isn\\'t going well for the Republicans. Public interest is swinging back to impeachment.  So the time for expanded operations has arrived. Couldn\\'t agree more. People are fiddling while Democracy dies with a whimper. RT @SethAbramson: Democrats should take YES for an answer: if the position of the Senate GOP is that any new evidence must be put into new… It’s absurd to think he composed any part of this letter. Just silly. RT @jaketapper: Philadelphia Inquirer Editorial Board: “we endorse a vote to impeach the president. While his removal from office is unlike… Madness we have come to regard as normal It’s lots worse than that, Travis. Russia is controlling the day-to-day direction and actions of the Republican Party. There’s no other way to account for the faithful repetition of Putin’s own talking points, and Trump’s own deference to his personal hero. No one on the Right is about “Justice” or “Fair Mindedness.” Lets stop pretending any of these people have a conscience. At this late date, only a fool or a cultist believes it\\'s possible to work with the bad guys. Is it starting to seem like more articles of impeachment should have been included? I\\'m hoping Speaker Pelosi is working on a post-acquittal strategy; the sham Senate trial is just another obstacle on the way to getting Trump out of office. It\\'s not the end. Does it matter how fucked up these jokers are as long as they’re in power and they have support? Teriffic idea RT @TeaPainUSA: If Democrats launched an impeachment inquiry into Barr, it would keep the spotlight on him and perhaps curtail some of his… Simple and brilliant. RT @TomJChicago: Why wait? Impeach Trump again for witness retaliation- a Federal crime. He cemented his guilt by firing BOTH Vindman broth… RT @AshaRangappa_: Raise your hand if you\\'d love to see @neal_katyal, who\\'s argued more SCOTUS cases than anyone, present the historical an… RT @djrothkopf: This. Please. It is urgent. Barr is the most insidious of all the many pernicious and dangerous forces within the Trump Adm… RT @Newsweek: Legal experts slam Attorney General Barr over impeachment: He\\'s \"up to his eyeballs\" in corruption https://t.co/wV0MxWGX8U Too late now. The damage has been done. My sensibility informs me that Tulsi is creepy. My sensibility is always right. More and more, I think the Biden connection is a distraction, and the real point was to withhold defensive armaments from Ukraine in its war with Russia. You\\'re so often ahead of the news cycle. Continuing the pressure on Trump and his party gives me a bit of hope for the next election. RT @DrGJackBrown: By NOT sending Impeachment to the Senate, Nancy Pelosi will:  • Neuter Trump &amp; McConnell • Anger Trump —\\xa0thus, he\\'ll make…', 'RT @RepValDemings: When we impeached the president, the Senate was GOP controlled.   We hoped, we prayed, that they would do the right thin… RT @guardian: Seth Meyers: \\'Today’s Republican party is an authoritarian movement\\' https://t.co/p5fzjZhcjb RT @funder: BREAKING: Trump admits in new interview that he did send Giuliani to Ukraine. Trump lied about it during the entire impeachment… RT @fred_guttenberg: I do not normally curse on Twitter, but if this is true, then this is f--ked up.  Did the #ImpeachedPresident actually… RT @JohnJHarwood: the swing GOP senator says the whistleblower told the truth  WH lawyers are wrong  Schiff proved that Trump did it  but h… RT @ChrisMurphyCT: The country is not going to accept the first impeachment trial in the history of the nation with no witnesses. It’s just… RT @ElieNYC: If it were the House, I\\'d impeach him on Monday for bribery. When the Senate kicked that, I\\'d impeach him the next day for tre… RT @RedTRaccoon: If you have never been to a march or political event like the ones that will occur on Tuesday, I can help demystify what i… RT @PuestoLoco: @maddow “Trump’s Ukraine plot appears to have been financed by Russia.” On 12/11/19 “federal prosecutors charged that Lev P… RT @ThePlumLineGS: McConnell\\'s vow of a rigged trial gives Dems an opening.  They can try to force votes on fairer rules, and call for admi… RT @tribelaw: .@AlanDersh is grossly misstating law, history, and even the arguments in the Johnson Senate impeachment trial. He’s not to b… RT @maggieNYT: On eve of impeachment vote, Giuliani draws Trump in deeper to the ouster of the Ukraine ambassador, via \\u2066@kenvogel\\u2069   https:… RT @mkraju: Amid tensions with Iran and president facing an upcoming impeachment trial, the WH today foregoing a daily press briefing for t… RT @QuinnipiacPoll: 75% of voters say allow witnesses in Senate impeachment trial, Poll finds; 53% say #PresidentTrump is not telling truth… RT @DavidPepper: Portman was in a meeting with this cast of characters in May, but voted last week to not allow subpoenas of any documents… RT @john_sipher: “It’s not just that impeachment is not a coup; it’s that impeachment is the opposite of a coup in about every way imaginab… RT @justinamash: Senator Graham has chosen to violate his oath to support and defend the Constitution, his oath to do impartial justice in… RT @ericswalwell: Tell these Senators @realDonaldTrump\\'s impeachment trial MUST include witness testimony (and retweet!) @SenatorCollins 20… RT @ananavarro: Bondi made a strong case Hunter Biden’s Burisma appointment was nepotism. Probably true. But, if giving a job to an unquali… RT @tribelaw: “McConnell’s abandonment of the foundational notion of the Senate as a check on monarchical power has put a hard stamp on [la… RT @jaketapper: WSJ: “Mr. Trump, after the strike, told associates he was under pressure to deal with Gen. Soleimani from GOP senators he v… RT @AshleyRParker: It is impeachment, and it is for life. It’s historical and it’s constitutional. It’s not something Trump can squirm his… RT @daveweigel: Back in 2003, Howard Dean said that \"the capture of Saddam Hussein has not made us safer,\" a completely true statement that… RT @maddow: Interesting line of argument from Manager Garcia here -- a reminder that there were initial indications from both State and Def… RT @Fahrenthold: How @realdonaldtrump’s own hotel created the conditions for his impeachment — by bottling up the GOP in a place where publ… RT @sbg1: As we all wait for Alexander\\'s decision, I keep coming back to this: All 15 previous Senate impeachment trials have had witnesses… RT @RWPUSA: He won the presidency with help from a foreign country. He was impeached for coercing another foreign country to help his re-el… RT @ezraklein: McConnell’s impeachment strategy has been to make the outcome so obvious that the public becomes exhausted by the process.… RT @Lawrence: Donald Trump got impeached trying to prevent what @JoeBiden is doing tonight. RT @maddow: New from CBS News tonight:  \"The intelligence agencies, some of them have stopped cooperating and it\\'s our understanding they\\'r…', 'That is some serious, NoKo-level propaganda. @marcorubio @POTUS Your partisan pursuit of confirming unqualified judges will have an impact, unfortunately. However, impeachment is an historic event that\\'s only happened 2 other times. Of course it could still happen again--before next year\\'s election, if Senate leadership keeps being a$$holes. Good. We know he\\'s committed more impeachable offenses than what he was charged with. Keep the articles coming! @TruthFreedom17 @katierogers @nytimes Funny to me how the right sees Hillary &amp; Obama as criminals when neither have ever been formally accused of anything. But Trump, who\\'s been impeached and has several of his former staff in prison, they see almost as a god.  #FactsDontMatterToTheRight RT @dvillella: @realDonaldTrump No, she will go down as one of the best. You\\'re only the 3rd US president in history to be impeached. https… @clantro @ryanmoore001 @RealRonHoward You can look for numbers to show anything you want. https://t.co/oUwnTC7qxR Bottom line is that we have a corrupt, lying president who just got impeached. If the Senate did its job, he\\'d get removed. He\\'s done far too much damage and it\\'s a corrupt Senate protecting him. Republicans are making so many bad-faith excuses for Trump, it\\'s clear the party is corrupt, through and through. It\\'ll be interesting to see how the party further degrades from here. RT @gtconway3d: It’s extremely difficult now to escape the conclusion that @realDonaldTrump started a war because he was impeached. RT @NGrossman81: White House knew Trump was breaking the law by freezing Ukraine aid to get political favors. Pentagon repeatedly told them… After countless hours, not one R has been able to provide a reasonable defense for Trump. Instead, they\\'ve chosen to  lie about the process, lie about the charges, &amp; even lie about the very existence of evidence we all saw and heard. Trump is guilty. It\\'s clear. #Impeach RT @fred_guttenberg: The vile tweets I received from Sanders surrogates this weekend for calling him out on guns were reprehensible.  That… @One_anotherlove @Im_just_Janet @DrJamesDobsonFT @Franklin_Graham @DrJamesCDobson When he specifically says \"in the aftermath\" it\\'s obvious that he\\'s talking about the aftermath of the impeachment. @LordCommanderJL @PridgeWessea @LindseyGrahamSC @realDonaldTrump Actually, they have. 17 former Watergate prosecutors said there was plenty of evidence for impeachment. 1000 former prosecutors said there was plenty of evidence for indictment.  Further, you don\\'t know Congress\\' motivations, despite your \"certainty\" that they\\'re \"terrified\". @Michael1359 @CTmagazine ...which authorizes impeachment. As for the supposed \"backlash\", haven\\'t seen any signs of it yet, but even if there is, it might surprise you, but there are still people willing to do what\\'s right even if there\\'s a cost. RT @BradBeauregardJ: These are the most serious charges ever brought against a president. To have a trial without witnesses would be an ins… RT @fuzionbunny: This self-dealing, enriching their lives at the cost of other\\'s financial health.  Trump* &amp; his family are in for the long… So much for \"BUT YOU CAN\\'T IMPEACH A PRESIDENT WITH SUCH A GOOD ECONOMY!!!\" He\\'s a sexual predator, a cheating businessman, &amp; a philanderer. He\\'s been impeached for corruption. Now he\\'s trying to drag us into a war to boost his support for re-election.  Enough is enough. Time for the Senate to do its job.  #RemoveTrump He is so underestimating the gravity of the situation. RT @cathyob1: I just watched ABC News with David Muir. Their impeachment coverage consisted of 2 video clips of Cipolline, a short one of R… Trump has told thousands of lies. Big lies. Little lies. This would fall under the \"big lies\" heading. RT @Milbank: There is justice in John Roberts being forced to preside silently over the impeachment trial of President Trump, day after day… Once again Republicans show their disdain for the democratic process. @RawStory Yeah, uh, didn\\'t they also threaten violence if he was impeached? Why does the media keep reporting this nonsense? Well, I guess that settles it as it\\'s a well-known fact that legislators can only work on one problem at a time. @c6Lifeform @BreitbartNews Sure. Pelosi went into impeachment w/ no idea the R\\'s would try to rig the Senate trial. Now she\\'s caught off-guard. Seems a perfectly reasonable guess that the only Speaker to serve 2 non-consecutive terms &amp; who\\'s thus far played Trump like a violin didn\\'t anticipate this. World-class hypocrites, every last one of them. RT @BradMossEsq: Subject matter experts have called this conspiracy theory nothing less than pure Russian disinformation. https://t.co/zc77… Huh. Imagine a conservative distributing a doctored picture of pens that are, in real life, certainly not shaped like bullets. Here\\'s an actual picture from that liberal news site, Fox: https://t.co/N5E8zK3jEk It\\'s not unreasonable to hold the articles until the House can be assured the Senate is going to do its dam job and not just bury a legitimate process in order to protect a criminal and corrupt president.', 'RT @BarbMcQuade: Here are the GOP defenses I have heard so far to articles of impeachment, along with the knee-jerk responses I have been s… RT @maddow: \"In private, many of my [Republican] colleagues agree the president is reckless and unfit. They admit his lies. They acknowledg… RT @tribelaw: This is the origin of the misimpression that Congress is bound to treat impeachment as mere authorization for the House to go… RT @BryanAGarner: I’ve always called myself Republican. I keep my Twitter feed generally apolitical &amp; will continue to do so. Generally. Bu… RT @Teri_Kanefield: (Thread) Impeachment Law 101  Instead of answering the individual questions I\\'m getting about this post about John Bolt… RT @JesseLehrich: ED BOARDS CALLING FOR IMPEACHMENT:  NYT USA Today WaPo Boston Globe Philly Inquirer NYDN Chicago Sun-Times LA Times SF Ch… RT @DavidAFrench: Who wants to tell him? RT @RichardHaass: So after 3 years of no international crises, @realDonaldTrump is facing one w Iran b/c he has rejected diplomacy &amp; anothe… RT @Mikel_Jollett: “The party told you to reject the evidence of your eyes and ears. It was their final, most essential command.”… @CoryGardner the real reason you\\'re not going to be reelected is because you\\'re a spineless #MoscowMitch lackey and Colorado deserves a senator willing to stand up for the constitution... I used to like you, luckily Trump has unmasked you']\n"
          ]
        }
      ]
    },
    {
      "cell_type": "code",
      "source": [
        "#tweet_embeddings = ai.get_embeddings(tweet_texts) # API CALL\n",
        "#print(\"TWEET EMBEDDINGS:\", len(tweet_embeddings))\n",
        "\n",
        "# RateLimitError: Rate limit reached for default-text-embedding-ada-002 in organization org-...\n",
        "# on tokens per min. Limit: 1_000_000 / min.\n",
        "# Current: 1 / min.\n",
        "# Contact us through our help center at help.openai.com if you continue to have issues.\n",
        "\n",
        "from time import sleep\n",
        "\n",
        "# we were able to process around 300 users previously, so let's use size around there\n",
        "# 250 per batch should take 12 batches / 12 minutes\n",
        "tweet_embeddings = []\n",
        "for tweets_batch in split_into_batches(tweet_texts, batch_size=250):\n",
        "    print(len(tweets_batch))\n",
        "    embeds_batch = ai.get_embeddings(tweets_batch)\n",
        "    tweet_embeddings += embeds_batch\n",
        "    sleep(60) # wait for a minute before requesting the next batch"
      ],
      "metadata": {
        "colab": {
          "base_uri": "https://localhost:8080/"
        },
        "id": "HePZZCE5ssYR",
        "outputId": "2e2e8458-0f52-4d5c-a541-489c3bc8e351"
      },
      "execution_count": 33,
      "outputs": [
        {
          "output_type": "stream",
          "name": "stdout",
          "text": [
            "250\n",
            "250\n",
            "250\n",
            "250\n",
            "250\n",
            "250\n",
            "250\n",
            "250\n",
            "250\n",
            "250\n",
            "250\n",
            "250\n"
          ]
        }
      ]
    },
    {
      "cell_type": "code",
      "source": [
        "tweets_df[\"embeddings\"] = tweet_embeddings"
      ],
      "metadata": {
        "id": "SyibL8VKni2E"
      },
      "execution_count": 38,
      "outputs": []
    },
    {
      "cell_type": "markdown",
      "source": [
        "### Profile Embeddings"
      ],
      "metadata": {
        "id": "eXRExI9Tf-ij"
      }
    },
    {
      "cell_type": "markdown",
      "source": [
        "FYI - Not all users have profile texts."
      ],
      "metadata": {
        "id": "ZUXD6SHGTxPt"
      }
    },
    {
      "cell_type": "markdown",
      "source": [
        "\n",
        "We will need to remove the nans before processing. And outer join them back together with the tweet embeddings at the end."
      ],
      "metadata": {
        "id": "GhghtCgGgg-H"
      }
    },
    {
      "cell_type": "code",
      "source": [
        "#users_df[\"profile_descriptions\"].isna()\n",
        "#users_df[\"profile_descriptions\"].notnull()"
      ],
      "metadata": {
        "id": "bUTo0sI6jcEE"
      },
      "execution_count": null,
      "outputs": []
    },
    {
      "cell_type": "code",
      "source": [
        "profiles_df = users_df[users_df[\"profile_descriptions\"].notnull()][[\"user_id\", \"profile_descriptions\"]]\n",
        "#profiles.head()"
      ],
      "metadata": {
        "id": "FBOWBw1ikD_8"
      },
      "execution_count": 39,
      "outputs": []
    },
    {
      "cell_type": "code",
      "source": [
        "profile_texts = profiles_df[\"profile_descriptions\"].tolist()\n",
        "print(\"PROFILE TEXTS:\", len(profile_texts))\n",
        "print(profile_texts[0:5])"
      ],
      "metadata": {
        "colab": {
          "base_uri": "https://localhost:8080/"
        },
        "id": "A7GH8h4Nj2a2",
        "outputId": "19f25b28-05c1-4836-ba98-a02980d12407"
      },
      "execution_count": 40,
      "outputs": [
        {
          "output_type": "stream",
          "name": "stdout",
          "text": [
            "PROFILE TEXTS: 2379\n",
            "['TRAINER OF CIRCUS SHRIMP - LOVER OF @PIZZAPUFFS | JUST HERE FOR THE GOP THOUGHTS AND PRAYERS!', 'RETIRED PHYSICIAN, COMMITTED LIFELONG PROGRESSIVE, THINKS OUTSIDE THE BOX. DAD TO GIRLS, POPPY, THE BIRDMAN. MOVED NORTH FROM FLORIDA.', '\"WHO THE HELL CAN SEE FOREVER?\"', 'JUST A GUY. BASEBALL AND VIDEO GAMES ARE MY THINGS. #FEARINOCULUM IS CURRENTLY ON REPEAT IN MY HOUSEHOLD.', 'JUST LIB']\n"
          ]
        }
      ]
    },
    {
      "cell_type": "code",
      "source": [
        "#profile_embeddings = ai.get_embeddings(profile_texts) # API CALL\n",
        "#print(\"PROFILE EMBEDDINGS:\", len(profile_embeddings))\n",
        "#print(len(profile_embeddings[0]))\n",
        "#print(profile_embeddings[0])\n",
        "\n",
        "profile_embeddings = []\n",
        "for profiles_batch in split_into_batches(profile_texts, batch_size=250):\n",
        "    print(len(profiles_batch))\n",
        "    embeds_batch = ai.get_embeddings(profiles_batch)\n",
        "    profile_embeddings += embeds_batch\n",
        "    sleep(60) # wait for a minute before requesting the next batch"
      ],
      "metadata": {
        "colab": {
          "base_uri": "https://localhost:8080/"
        },
        "id": "-AXwanW6kCTR",
        "outputId": "bd44e77c-31b5-48ac-9c28-458d3e4bf9f0"
      },
      "execution_count": 41,
      "outputs": [
        {
          "output_type": "stream",
          "name": "stdout",
          "text": [
            "250\n",
            "250\n",
            "250\n",
            "250\n",
            "250\n",
            "250\n",
            "250\n",
            "250\n",
            "250\n",
            "129\n"
          ]
        }
      ]
    },
    {
      "cell_type": "code",
      "source": [
        "profiles_df[\"embeddings\"] = profile_embeddings"
      ],
      "metadata": {
        "id": "k7krZdCknmDg"
      },
      "execution_count": 42,
      "outputs": []
    },
    {
      "cell_type": "code",
      "source": [
        "#profiles_df[\"embeddings\"].iloc[0]"
      ],
      "metadata": {
        "id": "z6NbxyZTnyLO"
      },
      "execution_count": null,
      "outputs": []
    },
    {
      "cell_type": "markdown",
      "source": [
        "## Save Embeddings"
      ],
      "metadata": {
        "id": "NWD0J4PsmVrU"
      }
    },
    {
      "cell_type": "code",
      "source": [
        "embeds_df = users_df.merge(profiles_df[\"embeddings\"], left_index=True, right_index=True)\n",
        "embeds_df.rename(columns={\"embeddings\": \"profile_embeddings\"}, inplace=True)\n",
        "\n",
        "embeds_df = embeds_df.merge(tweets_df[\"embeddings\"], left_index=True, right_index=True)\n",
        "embeds_df.rename(columns={\"embeddings\": \"tweet_embeddings\"}, inplace=True)\n",
        "\n",
        "#embeds_df.head()"
      ],
      "metadata": {
        "id": "pZyrc5KBoHL0"
      },
      "execution_count": null,
      "outputs": []
    },
    {
      "cell_type": "code",
      "source": [
        "model_dirpath = os.path.join(DATA_DIR, MODEL_ID)\n",
        "os.makedirs(model_dirpath, exist_ok=True)\n",
        "\n",
        "embeddings_csv_filepath = os.path.join(model_dirpath, \"users_sample_openai_embeddings_20230702_3000_min_10_max_30.csv\")\n",
        "print(embeddings_csv_filepath)\n",
        "embeds_df.to_csv(embeddings_csv_filepath)"
      ],
      "metadata": {
        "id": "8pRjiO31qBCZ",
        "colab": {
          "base_uri": "https://localhost:8080/"
        },
        "outputId": "0025c302-5dad-4d9d-b634-f361bfcdb5b2"
      },
      "execution_count": 45,
      "outputs": [
        {
          "output_type": "stream",
          "name": "stdout",
          "text": [
            "/content/drive/MyDrive/Research/DS Research Shared 2023/data/impeachment_2020/text-embedding-ada-002/users_sample_openai_embeddings_20230702_3000_min_10_max_30.csv\n"
          ]
        }
      ]
    }
  ]
}