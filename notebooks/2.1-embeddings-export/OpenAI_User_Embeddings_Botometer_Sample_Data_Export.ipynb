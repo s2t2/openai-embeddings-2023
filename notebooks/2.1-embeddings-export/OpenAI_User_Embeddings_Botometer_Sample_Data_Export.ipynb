{
  "nbformat": 4,
  "nbformat_minor": 0,
  "metadata": {
    "colab": {
      "provenance": []
    },
    "kernelspec": {
      "name": "python3",
      "display_name": "Python 3"
    },
    "language_info": {
      "name": "python"
    }
  },
  "cells": [
    {
      "cell_type": "markdown",
      "source": [
        "For a sample of users for which we have previously obtained Botometer scores, we have obtained OpenAI embeddings of their tweet texts and profile descriptions, respectively.\n",
        "\n",
        "The file with all the embeddings is large, and the embeddings are in a JSON string format, so instead let's split the embeddings into a column per embedding. And split the single large file into two smaller files (one for tweets, one for profiles).\n",
        "\n",
        "The resulting files will be easier to use for analysis."
      ],
      "metadata": {
        "id": "3zpDp92Sa0MX"
      }
    },
    {
      "cell_type": "markdown",
      "source": [
        "### Google Drive"
      ],
      "metadata": {
        "id": "_L3s6SkNY9rT"
      }
    },
    {
      "cell_type": "code",
      "source": [
        "import os\n",
        "from google.colab import drive\n",
        "\n",
        "drive.mount('/content/drive')\n",
        "print(os.getcwd(), os.listdir(os.getcwd())) #> 'content', ['.config', 'drive', 'sample_data']"
      ],
      "metadata": {
        "colab": {
          "base_uri": "https://localhost:8080/"
        },
        "id": "oSR5YnqinRvs",
        "outputId": "419f38c1-184c-465c-bb0f-0063d3b5ac23"
      },
      "execution_count": 1,
      "outputs": [
        {
          "output_type": "stream",
          "name": "stdout",
          "text": [
            "Mounted at /content/drive\n",
            "/content ['.config', 'drive', 'sample_data']\n"
          ]
        }
      ]
    },
    {
      "cell_type": "code",
      "source": [
        "# you might need to create a google drive SHORTCUT that has this same path\n",
        "# ... or update the path to use your own google drive organization\n",
        "DATA_DIR = '/content/drive/MyDrive/Research/DS Research Shared 2023/data/impeachment_2020'\n",
        "print(DATA_DIR)\n",
        "assert os.path.isdir(DATA_DIR)"
      ],
      "metadata": {
        "colab": {
          "base_uri": "https://localhost:8080/"
        },
        "id": "14YeF9uInuIf",
        "outputId": "6f16164b-fcbe-425b-cc61-6bb8de7b93ce"
      },
      "execution_count": 2,
      "outputs": [
        {
          "output_type": "stream",
          "name": "stdout",
          "text": [
            "/content/drive/MyDrive/Research/DS Research Shared 2023/data/impeachment_2020\n"
          ]
        }
      ]
    },
    {
      "cell_type": "markdown",
      "source": [
        "### Load Data"
      ],
      "metadata": {
        "id": "TlihxBkIZAEt"
      }
    },
    {
      "cell_type": "code",
      "source": [
        "MODEL_ID = \"text-embedding-ada-002\"\n",
        "\n",
        "embeddings_csv_filepath = os.path.join(DATA_DIR, MODEL_ID, \"botometer_sample_openai_embeddings_20230704.csv\")\n",
        "assert os.path.isfile(embeddings_csv_filepath)"
      ],
      "metadata": {
        "id": "EgJ2vIe8n-Ra"
      },
      "execution_count": 3,
      "outputs": []
    },
    {
      "cell_type": "code",
      "source": [
        "from pandas import read_csv\n",
        "\n",
        "df = read_csv(embeddings_csv_filepath)\n",
        "df.drop(columns=[\"Unnamed: 0\"], inplace=True)\n",
        "#df.index = df[\"user_id\"]\n",
        "print(df.columns.tolist())\n",
        "df.head()"
      ],
      "metadata": {
        "colab": {
          "base_uri": "https://localhost:8080/",
          "height": 508
        },
        "id": "1P4MkUdUY2fz",
        "outputId": "0cd01d4d-63bd-4437-98cd-14914f044eaa"
      },
      "execution_count": 4,
      "outputs": [
        {
          "output_type": "stream",
          "name": "stdout",
          "text": [
            "['user_id', 'created_on', 'screen_name_count', 'screen_names', 'status_count', 'rt_count', 'rt_pct', 'avg_toxicity', 'avg_fact_score', 'opinion_community', 'is_bot', 'is_q', 'profile_descriptions', 'tweet_texts', 'bom_cap', 'bom_astroturf', 'bom_fake_follower', 'bom_financial', 'bom_other', 'profile_embeddings', 'tweet_embeddings']\n"
          ]
        },
        {
          "output_type": "execute_result",
          "data": {
            "text/plain": [
              "      user_id  created_on  screen_name_count     screen_names  status_count  \\\n",
              "0   479211236  2012-01-31                  1  BIGREDMACHINE42           668   \n",
              "1    34033550  2009-04-21                  1      NURSINGPINS           763   \n",
              "2   515767837  2012-03-05                  1       MARLAVAGTS           647   \n",
              "3  3415696198  2015-08-11                  1        NANMAC321           815   \n",
              "4    38444226  2009-05-07                  1       GDIRTYDIME          1101   \n",
              "\n",
              "   rt_count    rt_pct  avg_toxicity  avg_fact_score  opinion_community  ...  \\\n",
              "0       668  1.000000      0.064429        1.809524                  1  ...   \n",
              "1       753  0.986894      0.069520        2.528571                  1  ...   \n",
              "2       644  0.995363      0.046958        3.730159                  0  ...   \n",
              "3       814  0.998773      0.047901        2.886905                  0  ...   \n",
              "4      1097  0.996367      0.098514        3.345238                  0  ...   \n",
              "\n",
              "    is_q                               profile_descriptions  \\\n",
              "0  False                                                NaN   \n",
              "1  False  CRITICAL CARE R.N.   STUDENT OF NURSING HISTOR...   \n",
              "2  False  PROGRESSIVE PASSIONATE COMPLICATED INDEPENDENT...   \n",
              "3  False                                           👓👟🐶🦁🦋☘️🌊   \n",
              "4  False  I AM JUST A CHILD OF GOD LIVING FOR MY JESUS.....   \n",
              "\n",
              "                                         tweet_texts   bom_cap  bom_astroturf  \\\n",
              "0  RT @foxnewpolls: POLL: Should Donald Trump be ...  0.659646           0.32   \n",
              "1  RT @ouchinagirl: Pres.@realDonaldTrump Lawyers...  0.798970           0.47   \n",
              "2  RT @politvidchannel: BREAKING: Sen. Tim Kaine ...  0.810078           0.79   \n",
              "3  RT @TrialLawyerRich: Former Prosecutor, Senato...  0.833918           0.85   \n",
              "4  RT @Jwheels208: “Your favorite president” Some...  0.867012           0.90   \n",
              "\n",
              "   bom_fake_follower  bom_financial  bom_other  \\\n",
              "0               0.16          0.350       0.54   \n",
              "1               0.51          0.255       0.43   \n",
              "2               0.42          0.210       0.56   \n",
              "3               0.20          0.040       0.32   \n",
              "4               0.56          0.040       0.47   \n",
              "\n",
              "                                  profile_embeddings  \\\n",
              "0                                                NaN   \n",
              "1  [-0.025425352156162262, -0.01051797904074192, ...   \n",
              "2  [-0.05974208191037178, -0.022309767082333565, ...   \n",
              "3  [-0.0019808614160865545, -0.006983266212046146...   \n",
              "4  [-0.025338178500533104, -0.025195974856615067,...   \n",
              "\n",
              "                                    tweet_embeddings  \n",
              "0  [-0.02560455910861492, -0.0007131877937354147,...  \n",
              "1  [-0.025602083653211594, -0.011307586915791035,...  \n",
              "2  [-0.017125703394412994, -0.014187934808433056,...  \n",
              "3  [-0.010583749040961266, -0.001130992197431624,...  \n",
              "4  [-0.03489087149500847, 0.007136144675314426, 0...  \n",
              "\n",
              "[5 rows x 21 columns]"
            ],
            "text/html": [
              "\n",
              "\n",
              "  <div id=\"df-23755efa-3869-4556-b186-c16c85f25718\">\n",
              "    <div class=\"colab-df-container\">\n",
              "      <div>\n",
              "<style scoped>\n",
              "    .dataframe tbody tr th:only-of-type {\n",
              "        vertical-align: middle;\n",
              "    }\n",
              "\n",
              "    .dataframe tbody tr th {\n",
              "        vertical-align: top;\n",
              "    }\n",
              "\n",
              "    .dataframe thead th {\n",
              "        text-align: right;\n",
              "    }\n",
              "</style>\n",
              "<table border=\"1\" class=\"dataframe\">\n",
              "  <thead>\n",
              "    <tr style=\"text-align: right;\">\n",
              "      <th></th>\n",
              "      <th>user_id</th>\n",
              "      <th>created_on</th>\n",
              "      <th>screen_name_count</th>\n",
              "      <th>screen_names</th>\n",
              "      <th>status_count</th>\n",
              "      <th>rt_count</th>\n",
              "      <th>rt_pct</th>\n",
              "      <th>avg_toxicity</th>\n",
              "      <th>avg_fact_score</th>\n",
              "      <th>opinion_community</th>\n",
              "      <th>...</th>\n",
              "      <th>is_q</th>\n",
              "      <th>profile_descriptions</th>\n",
              "      <th>tweet_texts</th>\n",
              "      <th>bom_cap</th>\n",
              "      <th>bom_astroturf</th>\n",
              "      <th>bom_fake_follower</th>\n",
              "      <th>bom_financial</th>\n",
              "      <th>bom_other</th>\n",
              "      <th>profile_embeddings</th>\n",
              "      <th>tweet_embeddings</th>\n",
              "    </tr>\n",
              "  </thead>\n",
              "  <tbody>\n",
              "    <tr>\n",
              "      <th>0</th>\n",
              "      <td>479211236</td>\n",
              "      <td>2012-01-31</td>\n",
              "      <td>1</td>\n",
              "      <td>BIGREDMACHINE42</td>\n",
              "      <td>668</td>\n",
              "      <td>668</td>\n",
              "      <td>1.000000</td>\n",
              "      <td>0.064429</td>\n",
              "      <td>1.809524</td>\n",
              "      <td>1</td>\n",
              "      <td>...</td>\n",
              "      <td>False</td>\n",
              "      <td>NaN</td>\n",
              "      <td>RT @foxnewpolls: POLL: Should Donald Trump be ...</td>\n",
              "      <td>0.659646</td>\n",
              "      <td>0.32</td>\n",
              "      <td>0.16</td>\n",
              "      <td>0.350</td>\n",
              "      <td>0.54</td>\n",
              "      <td>NaN</td>\n",
              "      <td>[-0.02560455910861492, -0.0007131877937354147,...</td>\n",
              "    </tr>\n",
              "    <tr>\n",
              "      <th>1</th>\n",
              "      <td>34033550</td>\n",
              "      <td>2009-04-21</td>\n",
              "      <td>1</td>\n",
              "      <td>NURSINGPINS</td>\n",
              "      <td>763</td>\n",
              "      <td>753</td>\n",
              "      <td>0.986894</td>\n",
              "      <td>0.069520</td>\n",
              "      <td>2.528571</td>\n",
              "      <td>1</td>\n",
              "      <td>...</td>\n",
              "      <td>False</td>\n",
              "      <td>CRITICAL CARE R.N.   STUDENT OF NURSING HISTOR...</td>\n",
              "      <td>RT @ouchinagirl: Pres.@realDonaldTrump Lawyers...</td>\n",
              "      <td>0.798970</td>\n",
              "      <td>0.47</td>\n",
              "      <td>0.51</td>\n",
              "      <td>0.255</td>\n",
              "      <td>0.43</td>\n",
              "      <td>[-0.025425352156162262, -0.01051797904074192, ...</td>\n",
              "      <td>[-0.025602083653211594, -0.011307586915791035,...</td>\n",
              "    </tr>\n",
              "    <tr>\n",
              "      <th>2</th>\n",
              "      <td>515767837</td>\n",
              "      <td>2012-03-05</td>\n",
              "      <td>1</td>\n",
              "      <td>MARLAVAGTS</td>\n",
              "      <td>647</td>\n",
              "      <td>644</td>\n",
              "      <td>0.995363</td>\n",
              "      <td>0.046958</td>\n",
              "      <td>3.730159</td>\n",
              "      <td>0</td>\n",
              "      <td>...</td>\n",
              "      <td>False</td>\n",
              "      <td>PROGRESSIVE PASSIONATE COMPLICATED INDEPENDENT...</td>\n",
              "      <td>RT @politvidchannel: BREAKING: Sen. Tim Kaine ...</td>\n",
              "      <td>0.810078</td>\n",
              "      <td>0.79</td>\n",
              "      <td>0.42</td>\n",
              "      <td>0.210</td>\n",
              "      <td>0.56</td>\n",
              "      <td>[-0.05974208191037178, -0.022309767082333565, ...</td>\n",
              "      <td>[-0.017125703394412994, -0.014187934808433056,...</td>\n",
              "    </tr>\n",
              "    <tr>\n",
              "      <th>3</th>\n",
              "      <td>3415696198</td>\n",
              "      <td>2015-08-11</td>\n",
              "      <td>1</td>\n",
              "      <td>NANMAC321</td>\n",
              "      <td>815</td>\n",
              "      <td>814</td>\n",
              "      <td>0.998773</td>\n",
              "      <td>0.047901</td>\n",
              "      <td>2.886905</td>\n",
              "      <td>0</td>\n",
              "      <td>...</td>\n",
              "      <td>False</td>\n",
              "      <td>👓👟🐶🦁🦋☘️🌊</td>\n",
              "      <td>RT @TrialLawyerRich: Former Prosecutor, Senato...</td>\n",
              "      <td>0.833918</td>\n",
              "      <td>0.85</td>\n",
              "      <td>0.20</td>\n",
              "      <td>0.040</td>\n",
              "      <td>0.32</td>\n",
              "      <td>[-0.0019808614160865545, -0.006983266212046146...</td>\n",
              "      <td>[-0.010583749040961266, -0.001130992197431624,...</td>\n",
              "    </tr>\n",
              "    <tr>\n",
              "      <th>4</th>\n",
              "      <td>38444226</td>\n",
              "      <td>2009-05-07</td>\n",
              "      <td>1</td>\n",
              "      <td>GDIRTYDIME</td>\n",
              "      <td>1101</td>\n",
              "      <td>1097</td>\n",
              "      <td>0.996367</td>\n",
              "      <td>0.098514</td>\n",
              "      <td>3.345238</td>\n",
              "      <td>0</td>\n",
              "      <td>...</td>\n",
              "      <td>False</td>\n",
              "      <td>I AM JUST A CHILD OF GOD LIVING FOR MY JESUS.....</td>\n",
              "      <td>RT @Jwheels208: “Your favorite president” Some...</td>\n",
              "      <td>0.867012</td>\n",
              "      <td>0.90</td>\n",
              "      <td>0.56</td>\n",
              "      <td>0.040</td>\n",
              "      <td>0.47</td>\n",
              "      <td>[-0.025338178500533104, -0.025195974856615067,...</td>\n",
              "      <td>[-0.03489087149500847, 0.007136144675314426, 0...</td>\n",
              "    </tr>\n",
              "  </tbody>\n",
              "</table>\n",
              "<p>5 rows × 21 columns</p>\n",
              "</div>\n",
              "      <button class=\"colab-df-convert\" onclick=\"convertToInteractive('df-23755efa-3869-4556-b186-c16c85f25718')\"\n",
              "              title=\"Convert this dataframe to an interactive table.\"\n",
              "              style=\"display:none;\">\n",
              "\n",
              "  <svg xmlns=\"http://www.w3.org/2000/svg\" height=\"24px\"viewBox=\"0 0 24 24\"\n",
              "       width=\"24px\">\n",
              "    <path d=\"M0 0h24v24H0V0z\" fill=\"none\"/>\n",
              "    <path d=\"M18.56 5.44l.94 2.06.94-2.06 2.06-.94-2.06-.94-.94-2.06-.94 2.06-2.06.94zm-11 1L8.5 8.5l.94-2.06 2.06-.94-2.06-.94L8.5 2.5l-.94 2.06-2.06.94zm10 10l.94 2.06.94-2.06 2.06-.94-2.06-.94-.94-2.06-.94 2.06-2.06.94z\"/><path d=\"M17.41 7.96l-1.37-1.37c-.4-.4-.92-.59-1.43-.59-.52 0-1.04.2-1.43.59L10.3 9.45l-7.72 7.72c-.78.78-.78 2.05 0 2.83L4 21.41c.39.39.9.59 1.41.59.51 0 1.02-.2 1.41-.59l7.78-7.78 2.81-2.81c.8-.78.8-2.07 0-2.86zM5.41 20L4 18.59l7.72-7.72 1.47 1.35L5.41 20z\"/>\n",
              "  </svg>\n",
              "      </button>\n",
              "\n",
              "\n",
              "\n",
              "    <div id=\"df-9b8ea326-f722-4eda-98f8-4daaa7a8709c\">\n",
              "      <button class=\"colab-df-quickchart\" onclick=\"quickchart('df-9b8ea326-f722-4eda-98f8-4daaa7a8709c')\"\n",
              "              title=\"Suggest charts.\"\n",
              "              style=\"display:none;\">\n",
              "\n",
              "<svg xmlns=\"http://www.w3.org/2000/svg\" height=\"24px\"viewBox=\"0 0 24 24\"\n",
              "     width=\"24px\">\n",
              "    <g>\n",
              "        <path d=\"M19 3H5c-1.1 0-2 .9-2 2v14c0 1.1.9 2 2 2h14c1.1 0 2-.9 2-2V5c0-1.1-.9-2-2-2zM9 17H7v-7h2v7zm4 0h-2V7h2v10zm4 0h-2v-4h2v4z\"/>\n",
              "    </g>\n",
              "</svg>\n",
              "      </button>\n",
              "    </div>\n",
              "\n",
              "<style>\n",
              "  .colab-df-quickchart {\n",
              "    background-color: #E8F0FE;\n",
              "    border: none;\n",
              "    border-radius: 50%;\n",
              "    cursor: pointer;\n",
              "    display: none;\n",
              "    fill: #1967D2;\n",
              "    height: 32px;\n",
              "    padding: 0 0 0 0;\n",
              "    width: 32px;\n",
              "  }\n",
              "\n",
              "  .colab-df-quickchart:hover {\n",
              "    background-color: #E2EBFA;\n",
              "    box-shadow: 0px 1px 2px rgba(60, 64, 67, 0.3), 0px 1px 3px 1px rgba(60, 64, 67, 0.15);\n",
              "    fill: #174EA6;\n",
              "  }\n",
              "\n",
              "  [theme=dark] .colab-df-quickchart {\n",
              "    background-color: #3B4455;\n",
              "    fill: #D2E3FC;\n",
              "  }\n",
              "\n",
              "  [theme=dark] .colab-df-quickchart:hover {\n",
              "    background-color: #434B5C;\n",
              "    box-shadow: 0px 1px 3px 1px rgba(0, 0, 0, 0.15);\n",
              "    filter: drop-shadow(0px 1px 2px rgba(0, 0, 0, 0.3));\n",
              "    fill: #FFFFFF;\n",
              "  }\n",
              "</style>\n",
              "\n",
              "    <script>\n",
              "      async function quickchart(key) {\n",
              "        const containerElement = document.querySelector('#' + key);\n",
              "        const charts = await google.colab.kernel.invokeFunction(\n",
              "            'suggestCharts', [key], {});\n",
              "      }\n",
              "    </script>\n",
              "\n",
              "      <script>\n",
              "\n",
              "function displayQuickchartButton(domScope) {\n",
              "  let quickchartButtonEl =\n",
              "    domScope.querySelector('#df-9b8ea326-f722-4eda-98f8-4daaa7a8709c button.colab-df-quickchart');\n",
              "  quickchartButtonEl.style.display =\n",
              "    google.colab.kernel.accessAllowed ? 'block' : 'none';\n",
              "}\n",
              "\n",
              "        displayQuickchartButton(document);\n",
              "      </script>\n",
              "      <style>\n",
              "    .colab-df-container {\n",
              "      display:flex;\n",
              "      flex-wrap:wrap;\n",
              "      gap: 12px;\n",
              "    }\n",
              "\n",
              "    .colab-df-convert {\n",
              "      background-color: #E8F0FE;\n",
              "      border: none;\n",
              "      border-radius: 50%;\n",
              "      cursor: pointer;\n",
              "      display: none;\n",
              "      fill: #1967D2;\n",
              "      height: 32px;\n",
              "      padding: 0 0 0 0;\n",
              "      width: 32px;\n",
              "    }\n",
              "\n",
              "    .colab-df-convert:hover {\n",
              "      background-color: #E2EBFA;\n",
              "      box-shadow: 0px 1px 2px rgba(60, 64, 67, 0.3), 0px 1px 3px 1px rgba(60, 64, 67, 0.15);\n",
              "      fill: #174EA6;\n",
              "    }\n",
              "\n",
              "    [theme=dark] .colab-df-convert {\n",
              "      background-color: #3B4455;\n",
              "      fill: #D2E3FC;\n",
              "    }\n",
              "\n",
              "    [theme=dark] .colab-df-convert:hover {\n",
              "      background-color: #434B5C;\n",
              "      box-shadow: 0px 1px 3px 1px rgba(0, 0, 0, 0.15);\n",
              "      filter: drop-shadow(0px 1px 2px rgba(0, 0, 0, 0.3));\n",
              "      fill: #FFFFFF;\n",
              "    }\n",
              "  </style>\n",
              "\n",
              "      <script>\n",
              "        const buttonEl =\n",
              "          document.querySelector('#df-23755efa-3869-4556-b186-c16c85f25718 button.colab-df-convert');\n",
              "        buttonEl.style.display =\n",
              "          google.colab.kernel.accessAllowed ? 'block' : 'none';\n",
              "\n",
              "        async function convertToInteractive(key) {\n",
              "          const element = document.querySelector('#df-23755efa-3869-4556-b186-c16c85f25718');\n",
              "          const dataTable =\n",
              "            await google.colab.kernel.invokeFunction('convertToInteractive',\n",
              "                                                     [key], {});\n",
              "          if (!dataTable) return;\n",
              "\n",
              "          const docLinkHtml = 'Like what you see? Visit the ' +\n",
              "            '<a target=\"_blank\" href=https://colab.research.google.com/notebooks/data_table.ipynb>data table notebook</a>'\n",
              "            + ' to learn more about interactive tables.';\n",
              "          element.innerHTML = '';\n",
              "          dataTable['output_type'] = 'display_data';\n",
              "          await google.colab.output.renderOutput(dataTable, element);\n",
              "          const docLink = document.createElement('div');\n",
              "          docLink.innerHTML = docLinkHtml;\n",
              "          element.appendChild(docLink);\n",
              "        }\n",
              "      </script>\n",
              "    </div>\n",
              "  </div>\n"
            ]
          },
          "metadata": {},
          "execution_count": 4
        }
      ]
    },
    {
      "cell_type": "code",
      "source": [
        "print(len(df))\n",
        "print(df[\"tweet_embeddings\"].notna().sum())\n",
        "print(df[\"profile_embeddings\"].notna().sum())"
      ],
      "metadata": {
        "colab": {
          "base_uri": "https://localhost:8080/"
        },
        "id": "fvAxwbM-sGAf",
        "outputId": "6a00cdc1-f67c-45d4-8617-541224ad11a0"
      },
      "execution_count": 5,
      "outputs": [
        {
          "output_type": "stream",
          "name": "stdout",
          "text": [
            "7566\n",
            "7566\n",
            "5746\n"
          ]
        }
      ]
    },
    {
      "cell_type": "markdown",
      "source": [
        "### Group Labels"
      ],
      "metadata": {
        "id": "HvPsYe_KnWOl"
      }
    },
    {
      "cell_type": "code",
      "source": [
        "df[\"opinion_label\"] = df[\"opinion_community\"].map({0:\"Anti-Trump\", 1:\"Pro-Trump\"})\n",
        "df[\"bot_label\"] = df[\"is_bot\"].map({True:\"Bot\", False:\"Human\"})\n",
        "df[\"q_label\"] = df[\"is_q\"].map({True:\"Q-anon\", False:\"Normal\"})"
      ],
      "metadata": {
        "id": "z9p6tHKMTn-y"
      },
      "execution_count": 6,
      "outputs": []
    },
    {
      "cell_type": "code",
      "source": [
        "short_q_label = df[\"is_q\"].map({True:\" Q-anon \", False:\" \"})\n",
        "df[\"group_label\"] = df[\"opinion_label\"] + short_q_label + df[\"bot_label\"]\n",
        "df[\"group_label\"] = df[\"group_label\"].replace([\"Pro-Trump Q-anon Bot\", \"Pro-Trump Q-anon Human\"], [\"Q-anon Human\", \"Q-anon Bot\"])\n",
        "df[\"group_label\"].value_counts()"
      ],
      "metadata": {
        "colab": {
          "base_uri": "https://localhost:8080/"
        },
        "id": "7XpbQbBaV1-c",
        "outputId": "cd97dfda-1ac9-4bfc-e00b-b5c73538af23"
      },
      "execution_count": 7,
      "outputs": [
        {
          "output_type": "execute_result",
          "data": {
            "text/plain": [
              "Anti-Trump Human    3010\n",
              "Anti-Trump Bot      1881\n",
              "Pro-Trump Human     1447\n",
              "Pro-Trump Bot       1051\n",
              "Q-anon Human         168\n",
              "Q-anon Bot             9\n",
              "Name: group_label, dtype: int64"
            ]
          },
          "metadata": {},
          "execution_count": 7
        }
      ]
    },
    {
      "cell_type": "markdown",
      "source": [
        "### Separate Datasets"
      ],
      "metadata": {
        "id": "vl5_eaKmi2Dp"
      }
    },
    {
      "cell_type": "code",
      "source": [
        "#LABELS = ['user_id', 'created_on',\n",
        "#          'screen_name_count', 'screen_names', 'status_count', 'rt_count', 'rt_pct',\n",
        "#          'avg_toxicity', 'avg_fact_score', 'opinion_community', 'is_bot', 'is_q',\n",
        "#          'bom_cap', 'bom_astroturf', 'bom_fake_follower', 'bom_financial', 'bom_other'\n",
        "#          #'profile_descriptions', 'tweet_texts',\n",
        "#]\n",
        "#ENGINEERED_LABELS = [\"opinion_label\", \"bot_label\", \"q_label\", \"group_label\"] #, \"group_color\"\n",
        "#TWEET_LABELS = LABELS + ENGINEERED_LABELS + [\"tweet_texts\"]\n",
        "#PROFILE_LABELS = LABELS + ENGINEERED_LABELS + [\"profile_descriptions\"]\n",
        "#\n",
        "#tweets_df = df[TWEET_LABELS] #.merge(tweet_embeddings, left_index=True, right_index=True)\n",
        "#profiles_df = df[PROFILE_LABELS] #.merge(profile_embeddings, left_index=True, right_index=True)\n",
        "#\n",
        "#print(len(tweets_df.columns))\n",
        "#print(len(profiles_df.columns))"
      ],
      "metadata": {
        "id": "pVjYLsqLium_"
      },
      "execution_count": 8,
      "outputs": []
    },
    {
      "cell_type": "code",
      "source": [
        "tweets_df = df.copy()\n",
        "tweets_df.drop(columns=[\"profile_descriptions\", \"profile_embeddings\"], inplace=True)\n",
        "print(tweets_df.shape)\n",
        "\n",
        "profiles_df = df.copy()\n",
        "profiles_df.drop(columns=[\"tweet_texts\", \"tweet_embeddings\"], inplace=True)\n",
        "profiles_df = profiles_df[ profiles_df[\"profile_embeddings\"].notna() ]  # drop rows where there are no profile descriptions (not all users have profiles)\n",
        "profiles_df.reset_index(inplace=True, drop=True)\n",
        "print(profiles_df.shape)"
      ],
      "metadata": {
        "colab": {
          "base_uri": "https://localhost:8080/"
        },
        "id": "f3b0nbrIrasl",
        "outputId": "42a30a72-a848-43ac-fde4-68dad708285a"
      },
      "execution_count": 9,
      "outputs": [
        {
          "output_type": "stream",
          "name": "stdout",
          "text": [
            "(7566, 23)\n",
            "(5746, 23)\n"
          ]
        }
      ]
    },
    {
      "cell_type": "markdown",
      "source": [
        "### Unpack Embeddings"
      ],
      "metadata": {
        "id": "BOFqx3wFXg70"
      }
    },
    {
      "cell_type": "markdown",
      "source": [
        "The embeddings are stored in a single column as a JSON string, so we'll need to convert that single column into a column per value in the embeddings array. We'll get 1536 columns back."
      ],
      "metadata": {
        "id": "yC3IlZ6RLNvM"
      }
    },
    {
      "cell_type": "code",
      "source": [
        "import json\n",
        "\n",
        "def unpack(embeddings_str):\n",
        "    # idempotence check\n",
        "    if isinstance(embeddings_str, str):\n",
        "        return json.loads(embeddings_str)\n",
        "    else:\n",
        "        return embeddings_str\n",
        "\n",
        "tweets_df[\"tweet_embeddings\"] = tweets_df[\"tweet_embeddings\"].apply(unpack)\n",
        "profiles_df[\"profile_embeddings\"] = profiles_df[\"profile_embeddings\"].apply(unpack)"
      ],
      "metadata": {
        "id": "WgBwI93dJbwb"
      },
      "execution_count": 10,
      "outputs": []
    },
    {
      "cell_type": "code",
      "source": [
        "print(type(tweets_df[\"tweet_embeddings\"][0]))\n",
        "print(len(tweets_df[\"tweet_embeddings\"][0])) #> 1536\n",
        "\n",
        "print(type(profiles_df[\"profile_embeddings\"][0]))\n",
        "print(len(profiles_df[\"profile_embeddings\"][0])) #> 1536"
      ],
      "metadata": {
        "colab": {
          "base_uri": "https://localhost:8080/"
        },
        "id": "LGbgaDAYFb7A",
        "outputId": "544efcf9-2446-45a9-c224-7219fc4cfc45"
      },
      "execution_count": 11,
      "outputs": [
        {
          "output_type": "stream",
          "name": "stdout",
          "text": [
            "<class 'list'>\n",
            "1536\n",
            "<class 'list'>\n",
            "1536\n"
          ]
        }
      ]
    },
    {
      "cell_type": "code",
      "source": [
        "from pandas import DataFrame\n",
        "\n",
        "tweet_embeddings = DataFrame(tweets_df[\"tweet_embeddings\"].values.tolist())\n",
        "print(len(tweet_embeddings))\n",
        "\n",
        "profile_embeddings = DataFrame(profiles_df[\"profile_embeddings\"].values.tolist())\n",
        "print(len(profile_embeddings))"
      ],
      "metadata": {
        "id": "z5MU1dEjLCtV",
        "colab": {
          "base_uri": "https://localhost:8080/"
        },
        "outputId": "a0d2aee1-107a-4911-9826-12fdff5354d5"
      },
      "execution_count": 12,
      "outputs": [
        {
          "output_type": "stream",
          "name": "stdout",
          "text": [
            "7566\n",
            "5746\n"
          ]
        }
      ]
    },
    {
      "cell_type": "markdown",
      "source": [
        "Merge embedding columns with label columns:"
      ],
      "metadata": {
        "id": "tNbQD800LLe9"
      }
    },
    {
      "cell_type": "code",
      "source": [
        "tweets_df = tweets_df.drop(columns=[\"tweet_embeddings\"]).merge(tweet_embeddings, left_index=True, right_index=True)\n",
        "profiles_df = profiles_df.drop(columns=[\"profile_embeddings\"]).merge(profile_embeddings, left_index=True, right_index=True)\n",
        "\n",
        "print(tweets_df.shape)\n",
        "print(profiles_df.shape)"
      ],
      "metadata": {
        "colab": {
          "base_uri": "https://localhost:8080/"
        },
        "id": "QEMtZreIu5Y5",
        "outputId": "62995274-9336-4d03-c323-4d6b095e7828"
      },
      "execution_count": 13,
      "outputs": [
        {
          "output_type": "stream",
          "name": "stdout",
          "text": [
            "(7566, 1558)\n",
            "(5746, 1558)\n"
          ]
        }
      ]
    },
    {
      "cell_type": "markdown",
      "source": [
        "### Export Data"
      ],
      "metadata": {
        "id": "MPTWj_lkaXn7"
      }
    },
    {
      "cell_type": "code",
      "source": [
        "# export and download from google colab filesystem (file won't download from drive for some reason - maybe too big?)\n",
        "# https://cmdlinetips.com/2020/05/how-to-save-pandas-dataframe-as-gzip-zip-file/\n",
        "#df.to_csv(\"botometer_sample_openai_embeddings_20230704.csv.zip\", index=False, compression=\"zip\")"
      ],
      "metadata": {
        "id": "2Ux6fVF9ZK4E"
      },
      "execution_count": 14,
      "outputs": []
    },
    {
      "cell_type": "code",
      "source": [
        "csv_filename = \"botometer_sample_openai_tweet_embeddings_20230704.csv.gz\"\n",
        "csv_filepath = os.path.join(DATA_DIR, MODEL_ID, csv_filename)\n",
        "\n",
        "#tweets_df.to_csv(csv_filename, index=False, compression=\"gzip\")\n",
        "tweets_df.to_csv(csv_filepath, index=False, compression=\"gzip\")"
      ],
      "metadata": {
        "id": "udByWAhuvgXk"
      },
      "execution_count": 15,
      "outputs": []
    },
    {
      "cell_type": "code",
      "source": [
        "csv_filename = \"botometer_sample_openai_profile_embeddings_20230704.csv.gz\"\n",
        "csv_filepath = os.path.join(DATA_DIR, MODEL_ID, csv_filename)\n",
        "\n",
        "#profiles_df.to_csv(csv_filename, index=False, compression=\"gzip\")\n",
        "profiles_df.to_csv(csv_filepath, index=False, compression=\"gzip\")"
      ],
      "metadata": {
        "id": "Ozu1Yrqu0q2w"
      },
      "execution_count": 16,
      "outputs": []
    }
  ]
}