{
  "nbformat": 4,
  "nbformat_minor": 0,
  "metadata": {
    "colab": {
      "provenance": [],
      "collapsed_sections": [
        "Ymoi-E5OjZD5"
      ]
    },
    "kernelspec": {
      "name": "python3",
      "display_name": "Python 3"
    }
  },
  "cells": [
    {
      "cell_type": "markdown",
      "metadata": {
        "id": "_-39w0IS18f-"
      },
      "source": [
        "We fetched OpenAI embeddings and stored on BQ. Let's download a CSV file to drive for further analysis."
      ]
    },
    {
      "cell_type": "markdown",
      "metadata": {
        "id": "Ymoi-E5OjZD5"
      },
      "source": [
        "## Setup"
      ]
    },
    {
      "cell_type": "markdown",
      "source": [
        "### Google Drive"
      ],
      "metadata": {
        "id": "FF154lGK_1N6"
      }
    },
    {
      "cell_type": "code",
      "source": [
        "import os\n",
        "from google.colab import drive\n",
        "\n",
        "drive.mount('/content/drive')\n",
        "print(os.getcwd(), os.listdir(os.getcwd()))"
      ],
      "metadata": {
        "colab": {
          "base_uri": "https://localhost:8080/"
        },
        "id": "i_eMkJ5fpKDp",
        "outputId": "15d7dd33-7c78-4e44-e669-ded6c0634e74"
      },
      "execution_count": 3,
      "outputs": [
        {
          "output_type": "stream",
          "name": "stdout",
          "text": [
            "Mounted at /content/drive\n",
            "/content ['.config', 'drive', 'sample_data']\n"
          ]
        }
      ]
    },
    {
      "cell_type": "code",
      "source": [],
      "metadata": {
        "id": "LNuZpKWOGmFZ"
      },
      "execution_count": 3,
      "outputs": []
    },
    {
      "cell_type": "code",
      "execution_count": 4,
      "metadata": {
        "colab": {
          "base_uri": "https://localhost:8080/"
        },
        "id": "5OKjyFQ0owen",
        "outputId": "74eb239c-bf23-4e18-915f-398d8596e2a7"
      },
      "outputs": [
        {
          "output_type": "stream",
          "name": "stdout",
          "text": [
            "/content/drive/MyDrive/Research/DS Research Shared 2024\n"
          ]
        },
        {
          "output_type": "execute_result",
          "data": {
            "text/plain": [
              "True"
            ]
          },
          "metadata": {},
          "execution_count": 4
        }
      ],
      "source": [
        "# you might need to create a google drive SHORTCUT that has this same path\n",
        "# ... or update the path to use your own google drive organization\n",
        "#DIRPATH = '/content/drive/MyDrive/Research/Disinfo Research Shared 2022'\n",
        "#DIRPATH = '/content/drive/MyDrive/Research/DS Research Shared 2023'\n",
        "DIRPATH = '/content/drive/MyDrive/Research/DS Research Shared 2024'\n",
        "\n",
        "print(DIRPATH)\n",
        "os.path.isdir(DIRPATH)"
      ]
    },
    {
      "cell_type": "code",
      "source": [
        "DATA_DIRPATH = os.path.join(DIRPATH, \"projects\", \"Impeachment 2020 Embeddings\", \"data\")\n",
        "os.path.isdir(DATA_DIRPATH)"
      ],
      "metadata": {
        "colab": {
          "base_uri": "https://localhost:8080/"
        },
        "id": "jjkYs5KJ99LX",
        "outputId": "b2df70ae-b1ae-4e90-f7a0-9cd44b846ed6"
      },
      "execution_count": 5,
      "outputs": [
        {
          "output_type": "execute_result",
          "data": {
            "text/plain": [
              "True"
            ]
          },
          "metadata": {},
          "execution_count": 5
        }
      ]
    },
    {
      "cell_type": "code",
      "source": [
        "#csv_filepath = os.path.join(\"\")\n",
        "#print(os.path.isfile(users_csv_filepath))"
      ],
      "metadata": {
        "id": "ozP1XQe9HEaK"
      },
      "execution_count": 6,
      "outputs": []
    },
    {
      "cell_type": "markdown",
      "metadata": {
        "id": "D7AHRh645FX3"
      },
      "source": [
        "### BigQuery Service"
      ]
    },
    {
      "cell_type": "code",
      "source": [
        "from google.colab import auth\n",
        "\n",
        "# asks you to login\n",
        "auth.authenticate_user()"
      ],
      "metadata": {
        "id": "rfJKRImngZAw"
      },
      "execution_count": 2,
      "outputs": []
    },
    {
      "cell_type": "code",
      "metadata": {
        "id": "yOz8eD9JkA7-"
      },
      "source": [
        "from google.cloud import bigquery\n",
        "from pandas import DataFrame, read_gbq\n",
        "\n",
        "\n",
        "PROJECT_ID = \"tweet-collector-py\"\n",
        "\n",
        "class BigQueryService():\n",
        "    def __init__(self, project_id=PROJECT_ID):\n",
        "        self.project_id = project_id\n",
        "        self.client = bigquery.Client(project=self.project_id)\n",
        "\n",
        "    def execute_query(self, sql, verbose=True):\n",
        "        if verbose == True:\n",
        "            print(sql)\n",
        "        job = self.client.query(sql)\n",
        "        return job.result()\n",
        "\n",
        "    #def query_to_df(self, sql, verbose=True):\n",
        "    #    \"\"\"high-level wrapper to return a DataFrame\"\"\"\n",
        "    #    results = self.execute_query(sql, verbose=verbose)\n",
        "    #    return DataFrame([dict(row) for row in results])\n",
        "\n",
        "    def query_to_df(self, sql, verbose=True):\n",
        "        \"\"\"high-level wrapper to return a DataFrame\"\"\"\n",
        "        if verbose == True:\n",
        "            print(sql)\n",
        "        # https://pandas.pydata.org/docs/reference/api/pandas.read_gbq.html#pandas-read-gbq\n",
        "        return read_gbq(sql, project_id=self.project_id) # progress_bar_type=\"tqdm_notebook\"\n",
        "\n",
        "\n",
        "\n"
      ],
      "execution_count": 27,
      "outputs": []
    },
    {
      "cell_type": "code",
      "metadata": {
        "id": "-qBZo9ezksZz",
        "colab": {
          "base_uri": "https://localhost:8080/"
        },
        "outputId": "e82ea201-4e2e-4d0c-bf09-7dd78f1afc12"
      },
      "source": [
        "bq = BigQueryService()\n",
        "print(bq)"
      ],
      "execution_count": 28,
      "outputs": [
        {
          "output_type": "stream",
          "name": "stdout",
          "text": [
            "<__main__.BigQueryService object at 0x79f65c9f99c0>\n"
          ]
        }
      ]
    },
    {
      "cell_type": "code",
      "source": [
        "print(\"DATASETS:\")\n",
        "datasets = list(bq.client.list_datasets())\n",
        "for ds in datasets:\n",
        "    #print(\"...\", ds.project, ds.dataset_id)\n",
        "    print(\"...\", ds.reference)"
      ],
      "metadata": {
        "colab": {
          "base_uri": "https://localhost:8080/"
        },
        "id": "RZU3pXwscjGG",
        "outputId": "2ab16041-f6fd-4e11-c6ad-6f528e14ff16"
      },
      "execution_count": 25,
      "outputs": [
        {
          "output_type": "stream",
          "name": "stdout",
          "text": [
            "DATASETS:\n",
            "... tweet-collector-py.analysis_2021\n",
            "... tweet-collector-py.analysis_2021_development\n",
            "... tweet-collector-py.collection_2021\n",
            "... tweet-collector-py.disinfo_2021_development\n",
            "... tweet-collector-py.disinfo_2021_production\n",
            "... tweet-collector-py.election_2020_analysis\n",
            "... tweet-collector-py.election_2020_development\n",
            "... tweet-collector-py.election_2020_production\n",
            "... tweet-collector-py.f1_racing_2023_development\n",
            "... tweet-collector-py.f1_racing_2023_production\n",
            "... tweet-collector-py.impeachment_2021_development\n",
            "... tweet-collector-py.impeachment_2021_production\n",
            "... tweet-collector-py.impeachment_backup\n",
            "... tweet-collector-py.impeachment_development\n",
            "... tweet-collector-py.impeachment_production\n",
            "... tweet-collector-py.impeachment_test\n",
            "... tweet-collector-py.jan6_committee_development\n",
            "... tweet-collector-py.jan6_committee_production\n",
            "... tweet-collector-py.transition_2021_development\n",
            "... tweet-collector-py.transition_2021_production\n",
            "... tweet-collector-py.truth_2023_development\n",
            "... tweet-collector-py.truth_2023_production\n"
          ]
        }
      ]
    },
    {
      "cell_type": "markdown",
      "source": [
        "# Embeddings"
      ],
      "metadata": {
        "id": "OQulQbvbFpHo"
      }
    },
    {
      "cell_type": "code",
      "source": [
        "DATASET_ADDRESS = \"tweet-collector-py.impeachment_production\""
      ],
      "metadata": {
        "id": "tkyUzzQsCFRN"
      },
      "execution_count": 12,
      "outputs": []
    },
    {
      "cell_type": "code",
      "source": [
        "sql = f\"\"\"\n",
        "    SELECT\n",
        "        count(distinct s.user_id) as user_count\n",
        "        ,count(distinct s.status_id) as status_count\n",
        "    FROM `{DATASET_ADDRESS}.botometer_sample` s\n",
        "    JOIN `{DATASET_ADDRESS}.botometer_sample_max_50_openai_status_embeddings` emb\n",
        "        ON s.status_id = emb.status_id\n",
        "\"\"\"\n",
        "bq.query_to_df(sql, verbose=False)"
      ],
      "metadata": {
        "colab": {
          "base_uri": "https://localhost:8080/",
          "height": 80
        },
        "id": "lVEKM1LiB4i2",
        "outputId": "a45bb4d3-1b08-4b13-ef25-186db972ce31"
      },
      "execution_count": 29,
      "outputs": [
        {
          "output_type": "execute_result",
          "data": {
            "text/plain": [
              "   user_count  status_count\n",
              "0        7566        183727"
            ],
            "text/html": [
              "\n",
              "  <div id=\"df-be7c448b-8ad9-4078-bd0b-3e2a97be48ec\" class=\"colab-df-container\">\n",
              "    <div>\n",
              "<style scoped>\n",
              "    .dataframe tbody tr th:only-of-type {\n",
              "        vertical-align: middle;\n",
              "    }\n",
              "\n",
              "    .dataframe tbody tr th {\n",
              "        vertical-align: top;\n",
              "    }\n",
              "\n",
              "    .dataframe thead th {\n",
              "        text-align: right;\n",
              "    }\n",
              "</style>\n",
              "<table border=\"1\" class=\"dataframe\">\n",
              "  <thead>\n",
              "    <tr style=\"text-align: right;\">\n",
              "      <th></th>\n",
              "      <th>user_count</th>\n",
              "      <th>status_count</th>\n",
              "    </tr>\n",
              "  </thead>\n",
              "  <tbody>\n",
              "    <tr>\n",
              "      <th>0</th>\n",
              "      <td>7566</td>\n",
              "      <td>183727</td>\n",
              "    </tr>\n",
              "  </tbody>\n",
              "</table>\n",
              "</div>\n",
              "    <div class=\"colab-df-buttons\">\n",
              "\n",
              "  <div class=\"colab-df-container\">\n",
              "    <button class=\"colab-df-convert\" onclick=\"convertToInteractive('df-be7c448b-8ad9-4078-bd0b-3e2a97be48ec')\"\n",
              "            title=\"Convert this dataframe to an interactive table.\"\n",
              "            style=\"display:none;\">\n",
              "\n",
              "  <svg xmlns=\"http://www.w3.org/2000/svg\" height=\"24px\" viewBox=\"0 -960 960 960\">\n",
              "    <path d=\"M120-120v-720h720v720H120Zm60-500h600v-160H180v160Zm220 220h160v-160H400v160Zm0 220h160v-160H400v160ZM180-400h160v-160H180v160Zm440 0h160v-160H620v160ZM180-180h160v-160H180v160Zm440 0h160v-160H620v160Z\"/>\n",
              "  </svg>\n",
              "    </button>\n",
              "\n",
              "  <style>\n",
              "    .colab-df-container {\n",
              "      display:flex;\n",
              "      gap: 12px;\n",
              "    }\n",
              "\n",
              "    .colab-df-convert {\n",
              "      background-color: #E8F0FE;\n",
              "      border: none;\n",
              "      border-radius: 50%;\n",
              "      cursor: pointer;\n",
              "      display: none;\n",
              "      fill: #1967D2;\n",
              "      height: 32px;\n",
              "      padding: 0 0 0 0;\n",
              "      width: 32px;\n",
              "    }\n",
              "\n",
              "    .colab-df-convert:hover {\n",
              "      background-color: #E2EBFA;\n",
              "      box-shadow: 0px 1px 2px rgba(60, 64, 67, 0.3), 0px 1px 3px 1px rgba(60, 64, 67, 0.15);\n",
              "      fill: #174EA6;\n",
              "    }\n",
              "\n",
              "    .colab-df-buttons div {\n",
              "      margin-bottom: 4px;\n",
              "    }\n",
              "\n",
              "    [theme=dark] .colab-df-convert {\n",
              "      background-color: #3B4455;\n",
              "      fill: #D2E3FC;\n",
              "    }\n",
              "\n",
              "    [theme=dark] .colab-df-convert:hover {\n",
              "      background-color: #434B5C;\n",
              "      box-shadow: 0px 1px 3px 1px rgba(0, 0, 0, 0.15);\n",
              "      filter: drop-shadow(0px 1px 2px rgba(0, 0, 0, 0.3));\n",
              "      fill: #FFFFFF;\n",
              "    }\n",
              "  </style>\n",
              "\n",
              "    <script>\n",
              "      const buttonEl =\n",
              "        document.querySelector('#df-be7c448b-8ad9-4078-bd0b-3e2a97be48ec button.colab-df-convert');\n",
              "      buttonEl.style.display =\n",
              "        google.colab.kernel.accessAllowed ? 'block' : 'none';\n",
              "\n",
              "      async function convertToInteractive(key) {\n",
              "        const element = document.querySelector('#df-be7c448b-8ad9-4078-bd0b-3e2a97be48ec');\n",
              "        const dataTable =\n",
              "          await google.colab.kernel.invokeFunction('convertToInteractive',\n",
              "                                                    [key], {});\n",
              "        if (!dataTable) return;\n",
              "\n",
              "        const docLinkHtml = 'Like what you see? Visit the ' +\n",
              "          '<a target=\"_blank\" href=https://colab.research.google.com/notebooks/data_table.ipynb>data table notebook</a>'\n",
              "          + ' to learn more about interactive tables.';\n",
              "        element.innerHTML = '';\n",
              "        dataTable['output_type'] = 'display_data';\n",
              "        await google.colab.output.renderOutput(dataTable, element);\n",
              "        const docLink = document.createElement('div');\n",
              "        docLink.innerHTML = docLinkHtml;\n",
              "        element.appendChild(docLink);\n",
              "      }\n",
              "    </script>\n",
              "  </div>\n",
              "\n",
              "\n",
              "    </div>\n",
              "  </div>\n"
            ]
          },
          "metadata": {},
          "execution_count": 29
        }
      ]
    },
    {
      "cell_type": "markdown",
      "source": [
        "## User Embeddings"
      ],
      "metadata": {
        "id": "TJUWWC48HcGk"
      }
    },
    {
      "cell_type": "markdown",
      "source": [
        "7566 users"
      ],
      "metadata": {
        "id": "CGpJ-kDaHfi5"
      }
    },
    {
      "cell_type": "code",
      "source": [
        "##%%time\n",
        "\n",
        "sql = f\"\"\"\n",
        "     SELECT\n",
        "        u.user_id, u.created_on\n",
        "        --, u.screen_name_count, u.screen_names, split(u.screen_names, \",\")[0] as screen_name\n",
        "        ,u.status_count, u.rt_count\n",
        "        ,u.is_bot --, u.bot_rt_network\n",
        "        ,u.opinion_community --, u.avg_score_lr, avg_score_nb, avg_score_bert\n",
        "        , u.is_q --, u.q_status_count\n",
        "        --, u.follower_count, u.follower_count_b, u.follower_count_h\n",
        "        --, u.friend_count, u.friend_count_b, u.friend_count_h\n",
        "\n",
        "        ,u.avg_toxicity --, u.avg_severe_toxicity, u.avg_insult, u.avg_obscene, u.avg_threat, u.avg_identity_hate\n",
        "        , u.avg_fact_score -- ,u.fact_scored_count\n",
        "\n",
        "        ,u.bom_astroturf, u.bom_overall --, u.bom_cap  --,u.bom_lookup_count\n",
        "        --,u.bom_fake_follower, u.bom_financial, u.bom_other, u.bom_self_declared, u.bom_spammer\n",
        "\n",
        "        ,emb.embeddings\n",
        "\n",
        "    FROM `{DATASET_ADDRESS}.user_details_v20240128_slim` u\n",
        "    JOIN `{DATASET_ADDRESS}.botometer_sample_max_50_openai_user_embeddings` emb\n",
        "        ON emb.user_id = u.user_id\n",
        "    -- LIMIT 10\n",
        "\"\"\"\n",
        "\n",
        "users_df = bq.query_to_df(sql, verbose=True)\n",
        "print(users_df.shape)\n",
        "users_df.head()"
      ],
      "metadata": {
        "colab": {
          "base_uri": "https://localhost:8080/",
          "height": 0
        },
        "id": "KoCuPC6FHdoZ",
        "outputId": "a086c716-b7e6-4009-d8b0-ceaaa2290507"
      },
      "execution_count": 18,
      "outputs": [
        {
          "output_type": "stream",
          "name": "stdout",
          "text": [
            "\n",
            "     SELECT \n",
            "        u.user_id, u.created_on \n",
            "        --, u.screen_name_count, u.screen_names, split(u.screen_names, \",\")[0] as screen_name\n",
            "        ,u.status_count, u.rt_count\n",
            "        ,u.is_bot --, u.bot_rt_network\n",
            "        ,u.opinion_community --, u.avg_score_lr, avg_score_nb, avg_score_bert\n",
            "        , u.is_q --, u.q_status_count \n",
            "        --, u.follower_count, u.follower_count_b, u.follower_count_h\n",
            "        --, u.friend_count, u.friend_count_b, u.friend_count_h\n",
            "\n",
            "        ,u.avg_toxicity --, u.avg_severe_toxicity, u.avg_insult, u.avg_obscene, u.avg_threat, u.avg_identity_hate\n",
            "        , u.avg_fact_score -- ,u.fact_scored_count\n",
            "\n",
            "        ,u.bom_astroturf, u.bom_overall --, u.bom_cap  --,u.bom_lookup_count \n",
            "        --,u.bom_fake_follower, u.bom_financial, u.bom_other, u.bom_self_declared, u.bom_spammer\n",
            "\n",
            "        ,emb.embeddings\n",
            "\n",
            "    FROM `tweet-collector-py.impeachment_production.user_details_v20240128_slim` u \n",
            "    JOIN `tweet-collector-py.impeachment_production.botometer_sample_max_50_openai_user_embeddings` emb \n",
            "        ON emb.user_id = u.user_id\n",
            "    -- LIMIT 10\n",
            "\n",
            "(7566, 12)\n"
          ]
        },
        {
          "output_type": "execute_result",
          "data": {
            "text/plain": [
              "               user_id  created_on  status_count  rt_count  is_bot  \\\n",
              "0  1196938918874107904  2019-11-19           145       145    True   \n",
              "1             57175518  2009-07-15           685       655    True   \n",
              "2   827175115200876544  2017-02-02           749       714    True   \n",
              "3            405039097  2011-11-04           479       467    True   \n",
              "4   826747343571664897  2017-02-01           697       669    True   \n",
              "\n",
              "   opinion_community   is_q  avg_toxicity  avg_fact_score  bom_astroturf  \\\n",
              "0                  0  False      0.059316        3.678571          0.800   \n",
              "1                  1  False      0.042347        2.377551          0.415   \n",
              "2                  0  False      0.055041        4.653061          0.830   \n",
              "3                  1  False      0.053240        1.800000          0.535   \n",
              "4                  1  False      0.048580        1.571429          0.245   \n",
              "\n",
              "   bom_overall                                         embeddings  \n",
              "0        0.800  [-0.021835120394825935, -0.004839153029024601,...  \n",
              "1        0.805  [-0.027428433299064636, 0.011793000623583794, ...  \n",
              "2        0.830  [-0.015219379216432571, -0.010519277304410934,...  \n",
              "3        0.310  [-0.02283899299800396, 0.004357530735433102, 0...  \n",
              "4        0.080  [-0.03725171461701393, -0.011983302421867847, ...  "
            ],
            "text/html": [
              "\n",
              "  <div id=\"df-8b87b9f6-5108-4b93-8e2a-383cd63f6bf2\" class=\"colab-df-container\">\n",
              "    <div>\n",
              "<style scoped>\n",
              "    .dataframe tbody tr th:only-of-type {\n",
              "        vertical-align: middle;\n",
              "    }\n",
              "\n",
              "    .dataframe tbody tr th {\n",
              "        vertical-align: top;\n",
              "    }\n",
              "\n",
              "    .dataframe thead th {\n",
              "        text-align: right;\n",
              "    }\n",
              "</style>\n",
              "<table border=\"1\" class=\"dataframe\">\n",
              "  <thead>\n",
              "    <tr style=\"text-align: right;\">\n",
              "      <th></th>\n",
              "      <th>user_id</th>\n",
              "      <th>created_on</th>\n",
              "      <th>status_count</th>\n",
              "      <th>rt_count</th>\n",
              "      <th>is_bot</th>\n",
              "      <th>opinion_community</th>\n",
              "      <th>is_q</th>\n",
              "      <th>avg_toxicity</th>\n",
              "      <th>avg_fact_score</th>\n",
              "      <th>bom_astroturf</th>\n",
              "      <th>bom_overall</th>\n",
              "      <th>embeddings</th>\n",
              "    </tr>\n",
              "  </thead>\n",
              "  <tbody>\n",
              "    <tr>\n",
              "      <th>0</th>\n",
              "      <td>1196938918874107904</td>\n",
              "      <td>2019-11-19</td>\n",
              "      <td>145</td>\n",
              "      <td>145</td>\n",
              "      <td>True</td>\n",
              "      <td>0</td>\n",
              "      <td>False</td>\n",
              "      <td>0.059316</td>\n",
              "      <td>3.678571</td>\n",
              "      <td>0.800</td>\n",
              "      <td>0.800</td>\n",
              "      <td>[-0.021835120394825935, -0.004839153029024601,...</td>\n",
              "    </tr>\n",
              "    <tr>\n",
              "      <th>1</th>\n",
              "      <td>57175518</td>\n",
              "      <td>2009-07-15</td>\n",
              "      <td>685</td>\n",
              "      <td>655</td>\n",
              "      <td>True</td>\n",
              "      <td>1</td>\n",
              "      <td>False</td>\n",
              "      <td>0.042347</td>\n",
              "      <td>2.377551</td>\n",
              "      <td>0.415</td>\n",
              "      <td>0.805</td>\n",
              "      <td>[-0.027428433299064636, 0.011793000623583794, ...</td>\n",
              "    </tr>\n",
              "    <tr>\n",
              "      <th>2</th>\n",
              "      <td>827175115200876544</td>\n",
              "      <td>2017-02-02</td>\n",
              "      <td>749</td>\n",
              "      <td>714</td>\n",
              "      <td>True</td>\n",
              "      <td>0</td>\n",
              "      <td>False</td>\n",
              "      <td>0.055041</td>\n",
              "      <td>4.653061</td>\n",
              "      <td>0.830</td>\n",
              "      <td>0.830</td>\n",
              "      <td>[-0.015219379216432571, -0.010519277304410934,...</td>\n",
              "    </tr>\n",
              "    <tr>\n",
              "      <th>3</th>\n",
              "      <td>405039097</td>\n",
              "      <td>2011-11-04</td>\n",
              "      <td>479</td>\n",
              "      <td>467</td>\n",
              "      <td>True</td>\n",
              "      <td>1</td>\n",
              "      <td>False</td>\n",
              "      <td>0.053240</td>\n",
              "      <td>1.800000</td>\n",
              "      <td>0.535</td>\n",
              "      <td>0.310</td>\n",
              "      <td>[-0.02283899299800396, 0.004357530735433102, 0...</td>\n",
              "    </tr>\n",
              "    <tr>\n",
              "      <th>4</th>\n",
              "      <td>826747343571664897</td>\n",
              "      <td>2017-02-01</td>\n",
              "      <td>697</td>\n",
              "      <td>669</td>\n",
              "      <td>True</td>\n",
              "      <td>1</td>\n",
              "      <td>False</td>\n",
              "      <td>0.048580</td>\n",
              "      <td>1.571429</td>\n",
              "      <td>0.245</td>\n",
              "      <td>0.080</td>\n",
              "      <td>[-0.03725171461701393, -0.011983302421867847, ...</td>\n",
              "    </tr>\n",
              "  </tbody>\n",
              "</table>\n",
              "</div>\n",
              "    <div class=\"colab-df-buttons\">\n",
              "\n",
              "  <div class=\"colab-df-container\">\n",
              "    <button class=\"colab-df-convert\" onclick=\"convertToInteractive('df-8b87b9f6-5108-4b93-8e2a-383cd63f6bf2')\"\n",
              "            title=\"Convert this dataframe to an interactive table.\"\n",
              "            style=\"display:none;\">\n",
              "\n",
              "  <svg xmlns=\"http://www.w3.org/2000/svg\" height=\"24px\" viewBox=\"0 -960 960 960\">\n",
              "    <path d=\"M120-120v-720h720v720H120Zm60-500h600v-160H180v160Zm220 220h160v-160H400v160Zm0 220h160v-160H400v160ZM180-400h160v-160H180v160Zm440 0h160v-160H620v160ZM180-180h160v-160H180v160Zm440 0h160v-160H620v160Z\"/>\n",
              "  </svg>\n",
              "    </button>\n",
              "\n",
              "  <style>\n",
              "    .colab-df-container {\n",
              "      display:flex;\n",
              "      gap: 12px;\n",
              "    }\n",
              "\n",
              "    .colab-df-convert {\n",
              "      background-color: #E8F0FE;\n",
              "      border: none;\n",
              "      border-radius: 50%;\n",
              "      cursor: pointer;\n",
              "      display: none;\n",
              "      fill: #1967D2;\n",
              "      height: 32px;\n",
              "      padding: 0 0 0 0;\n",
              "      width: 32px;\n",
              "    }\n",
              "\n",
              "    .colab-df-convert:hover {\n",
              "      background-color: #E2EBFA;\n",
              "      box-shadow: 0px 1px 2px rgba(60, 64, 67, 0.3), 0px 1px 3px 1px rgba(60, 64, 67, 0.15);\n",
              "      fill: #174EA6;\n",
              "    }\n",
              "\n",
              "    .colab-df-buttons div {\n",
              "      margin-bottom: 4px;\n",
              "    }\n",
              "\n",
              "    [theme=dark] .colab-df-convert {\n",
              "      background-color: #3B4455;\n",
              "      fill: #D2E3FC;\n",
              "    }\n",
              "\n",
              "    [theme=dark] .colab-df-convert:hover {\n",
              "      background-color: #434B5C;\n",
              "      box-shadow: 0px 1px 3px 1px rgba(0, 0, 0, 0.15);\n",
              "      filter: drop-shadow(0px 1px 2px rgba(0, 0, 0, 0.3));\n",
              "      fill: #FFFFFF;\n",
              "    }\n",
              "  </style>\n",
              "\n",
              "    <script>\n",
              "      const buttonEl =\n",
              "        document.querySelector('#df-8b87b9f6-5108-4b93-8e2a-383cd63f6bf2 button.colab-df-convert');\n",
              "      buttonEl.style.display =\n",
              "        google.colab.kernel.accessAllowed ? 'block' : 'none';\n",
              "\n",
              "      async function convertToInteractive(key) {\n",
              "        const element = document.querySelector('#df-8b87b9f6-5108-4b93-8e2a-383cd63f6bf2');\n",
              "        const dataTable =\n",
              "          await google.colab.kernel.invokeFunction('convertToInteractive',\n",
              "                                                    [key], {});\n",
              "        if (!dataTable) return;\n",
              "\n",
              "        const docLinkHtml = 'Like what you see? Visit the ' +\n",
              "          '<a target=\"_blank\" href=https://colab.research.google.com/notebooks/data_table.ipynb>data table notebook</a>'\n",
              "          + ' to learn more about interactive tables.';\n",
              "        element.innerHTML = '';\n",
              "        dataTable['output_type'] = 'display_data';\n",
              "        await google.colab.output.renderOutput(dataTable, element);\n",
              "        const docLink = document.createElement('div');\n",
              "        docLink.innerHTML = docLinkHtml;\n",
              "        element.appendChild(docLink);\n",
              "      }\n",
              "    </script>\n",
              "  </div>\n",
              "\n",
              "\n",
              "<div id=\"df-b62ff8a0-a179-4a17-bef7-2fdf232e1ad2\">\n",
              "  <button class=\"colab-df-quickchart\" onclick=\"quickchart('df-b62ff8a0-a179-4a17-bef7-2fdf232e1ad2')\"\n",
              "            title=\"Suggest charts\"\n",
              "            style=\"display:none;\">\n",
              "\n",
              "<svg xmlns=\"http://www.w3.org/2000/svg\" height=\"24px\"viewBox=\"0 0 24 24\"\n",
              "     width=\"24px\">\n",
              "    <g>\n",
              "        <path d=\"M19 3H5c-1.1 0-2 .9-2 2v14c0 1.1.9 2 2 2h14c1.1 0 2-.9 2-2V5c0-1.1-.9-2-2-2zM9 17H7v-7h2v7zm4 0h-2V7h2v10zm4 0h-2v-4h2v4z\"/>\n",
              "    </g>\n",
              "</svg>\n",
              "  </button>\n",
              "\n",
              "<style>\n",
              "  .colab-df-quickchart {\n",
              "      --bg-color: #E8F0FE;\n",
              "      --fill-color: #1967D2;\n",
              "      --hover-bg-color: #E2EBFA;\n",
              "      --hover-fill-color: #174EA6;\n",
              "      --disabled-fill-color: #AAA;\n",
              "      --disabled-bg-color: #DDD;\n",
              "  }\n",
              "\n",
              "  [theme=dark] .colab-df-quickchart {\n",
              "      --bg-color: #3B4455;\n",
              "      --fill-color: #D2E3FC;\n",
              "      --hover-bg-color: #434B5C;\n",
              "      --hover-fill-color: #FFFFFF;\n",
              "      --disabled-bg-color: #3B4455;\n",
              "      --disabled-fill-color: #666;\n",
              "  }\n",
              "\n",
              "  .colab-df-quickchart {\n",
              "    background-color: var(--bg-color);\n",
              "    border: none;\n",
              "    border-radius: 50%;\n",
              "    cursor: pointer;\n",
              "    display: none;\n",
              "    fill: var(--fill-color);\n",
              "    height: 32px;\n",
              "    padding: 0;\n",
              "    width: 32px;\n",
              "  }\n",
              "\n",
              "  .colab-df-quickchart:hover {\n",
              "    background-color: var(--hover-bg-color);\n",
              "    box-shadow: 0 1px 2px rgba(60, 64, 67, 0.3), 0 1px 3px 1px rgba(60, 64, 67, 0.15);\n",
              "    fill: var(--button-hover-fill-color);\n",
              "  }\n",
              "\n",
              "  .colab-df-quickchart-complete:disabled,\n",
              "  .colab-df-quickchart-complete:disabled:hover {\n",
              "    background-color: var(--disabled-bg-color);\n",
              "    fill: var(--disabled-fill-color);\n",
              "    box-shadow: none;\n",
              "  }\n",
              "\n",
              "  .colab-df-spinner {\n",
              "    border: 2px solid var(--fill-color);\n",
              "    border-color: transparent;\n",
              "    border-bottom-color: var(--fill-color);\n",
              "    animation:\n",
              "      spin 1s steps(1) infinite;\n",
              "  }\n",
              "\n",
              "  @keyframes spin {\n",
              "    0% {\n",
              "      border-color: transparent;\n",
              "      border-bottom-color: var(--fill-color);\n",
              "      border-left-color: var(--fill-color);\n",
              "    }\n",
              "    20% {\n",
              "      border-color: transparent;\n",
              "      border-left-color: var(--fill-color);\n",
              "      border-top-color: var(--fill-color);\n",
              "    }\n",
              "    30% {\n",
              "      border-color: transparent;\n",
              "      border-left-color: var(--fill-color);\n",
              "      border-top-color: var(--fill-color);\n",
              "      border-right-color: var(--fill-color);\n",
              "    }\n",
              "    40% {\n",
              "      border-color: transparent;\n",
              "      border-right-color: var(--fill-color);\n",
              "      border-top-color: var(--fill-color);\n",
              "    }\n",
              "    60% {\n",
              "      border-color: transparent;\n",
              "      border-right-color: var(--fill-color);\n",
              "    }\n",
              "    80% {\n",
              "      border-color: transparent;\n",
              "      border-right-color: var(--fill-color);\n",
              "      border-bottom-color: var(--fill-color);\n",
              "    }\n",
              "    90% {\n",
              "      border-color: transparent;\n",
              "      border-bottom-color: var(--fill-color);\n",
              "    }\n",
              "  }\n",
              "</style>\n",
              "\n",
              "  <script>\n",
              "    async function quickchart(key) {\n",
              "      const quickchartButtonEl =\n",
              "        document.querySelector('#' + key + ' button');\n",
              "      quickchartButtonEl.disabled = true;  // To prevent multiple clicks.\n",
              "      quickchartButtonEl.classList.add('colab-df-spinner');\n",
              "      try {\n",
              "        const charts = await google.colab.kernel.invokeFunction(\n",
              "            'suggestCharts', [key], {});\n",
              "      } catch (error) {\n",
              "        console.error('Error during call to suggestCharts:', error);\n",
              "      }\n",
              "      quickchartButtonEl.classList.remove('colab-df-spinner');\n",
              "      quickchartButtonEl.classList.add('colab-df-quickchart-complete');\n",
              "    }\n",
              "    (() => {\n",
              "      let quickchartButtonEl =\n",
              "        document.querySelector('#df-b62ff8a0-a179-4a17-bef7-2fdf232e1ad2 button');\n",
              "      quickchartButtonEl.style.display =\n",
              "        google.colab.kernel.accessAllowed ? 'block' : 'none';\n",
              "    })();\n",
              "  </script>\n",
              "</div>\n",
              "\n",
              "    </div>\n",
              "  </div>\n"
            ]
          },
          "metadata": {},
          "execution_count": 18
        }
      ]
    },
    {
      "cell_type": "markdown",
      "source": [
        "Saving CSV to drive:"
      ],
      "metadata": {
        "id": "1TYFGOn7Ow-P"
      }
    },
    {
      "cell_type": "code",
      "source": [
        "user_embeddings_csv_filepath = os.path.join(DATA_DIRPATH, \"botometer_sample_max_50_openai_user_embeddings.csv\")\n",
        "users_df.to_csv(user_embeddings_csv_filepath, index=False)"
      ],
      "metadata": {
        "id": "V5m_ZmDFHeLx"
      },
      "execution_count": 19,
      "outputs": []
    },
    {
      "cell_type": "code",
      "source": [
        "#import json\n",
        "#\n",
        "#def unpack(embeddings_str):\n",
        "#    # idempotence check\n",
        "#    if isinstance(embeddings_str, str):\n",
        "#        return json.loads(embeddings_str)\n",
        "#    else:\n",
        "#        return embeddings_str\n",
        "#\n",
        "#embeds = df[\"embeddings\"].apply(unpack)\n",
        "#print(type(embeds))\n",
        "#\n",
        "#embeds = DataFrame(embeds.values.tolist())\n",
        "#embeds.columns = [f\"openai_{col}\" for col in embeds.columns]\n",
        "#embeds.index = df.index\n",
        "#print(embeds.shape)\n",
        "#embeds.head()"
      ],
      "metadata": {
        "id": "Dben5Qbs-5Lf"
      },
      "execution_count": null,
      "outputs": []
    },
    {
      "cell_type": "code",
      "source": [
        "#df_embeds = df.drop(columns=[\"embeddings\"]).merge(embeds, left_index=True, right_index=True)\n",
        "#df_embeds.head()"
      ],
      "metadata": {
        "id": "2blxe-5ND9u4"
      },
      "execution_count": null,
      "outputs": []
    },
    {
      "cell_type": "code",
      "source": [
        "#df.to_csv(\"status_embeddings.csv\", index=False)"
      ],
      "metadata": {
        "id": "r3COxyDq-OZ4"
      },
      "execution_count": 24,
      "outputs": []
    },
    {
      "cell_type": "code",
      "source": [],
      "metadata": {
        "id": "nQGfxCyBHeIi"
      },
      "execution_count": null,
      "outputs": []
    },
    {
      "cell_type": "markdown",
      "metadata": {
        "id": "4t48ewACjXQy"
      },
      "source": [
        "## Tweet Embeddings"
      ]
    },
    {
      "cell_type": "markdown",
      "source": [
        "183K statuses"
      ],
      "metadata": {
        "id": "5sJsvSTWCVVX"
      }
    },
    {
      "cell_type": "markdown",
      "source": [
        "Wow wow wow this is taking a long time (1hr +...) to stream the data down over the network..."
      ],
      "metadata": {
        "id": "4gIJd0h_-rXO"
      }
    },
    {
      "cell_type": "code",
      "source": [
        "\n",
        "sql = f\"\"\"\n",
        "    SELECT s.user_id, s.status_id, s.status_text, s.created_at, emb.embeddings\n",
        "    FROM `{DATASET_ADDRESS}.botometer_sample` s\n",
        "    JOIN `{DATASET_ADDRESS}.botometer_sample_max_50_openai_status_embeddings` emb\n",
        "        ON s.status_id = emb.status_id\n",
        "    -- LIMIT 10000\n",
        "\"\"\"\n",
        "\n",
        "tweets_df = bq.query_to_df(sql, verbose=True)\n",
        "print(tweets_df.shape)\n",
        "tweets_df.head()"
      ],
      "metadata": {
        "colab": {
          "base_uri": "https://localhost:8080/",
          "height": 345
        },
        "id": "VYBVlVBN9tIf",
        "outputId": "9411c2df-1fdb-4d71-9823-50e834fe79fb"
      },
      "execution_count": 31,
      "outputs": [
        {
          "output_type": "stream",
          "name": "stdout",
          "text": [
            "\n",
            "    SELECT s.user_id, s.status_id, s.status_text, s.created_at, emb.embeddings\n",
            "    FROM `tweet-collector-py.impeachment_production.botometer_sample` s \n",
            "    JOIN `tweet-collector-py.impeachment_production.botometer_sample_max_50_openai_status_embeddings` emb \n",
            "        ON s.status_id = emb.status_id\n",
            "    -- LIMIT 10000\n",
            "\n",
            "(198477, 5)\n"
          ]
        },
        {
          "output_type": "execute_result",
          "data": {
            "text/plain": [
              "               user_id            status_id  \\\n",
              "0   999756421188202498  1218190214906155009   \n",
              "1            295393566  1224859633216630784   \n",
              "2  1173707986038067200  1225270015110320128   \n",
              "3   850117708477853697  1210648904716443649   \n",
              "4   888143550638170112  1210261760835555328   \n",
              "\n",
              "                                         status_text  \\\n",
              "0  RT @jimsciutto: Immediate question for Starr a...   \n",
              "1  RT @village_jordan: Rand Paul on Senate floor ...   \n",
              "2  RT @DemWrite: 🔥 Share this 1 million times 🔥  ...   \n",
              "3  RT @realDonaldTrump: “Pelosi’s stall tactics e...   \n",
              "4  RT @joncoopertweets: FUN FACT: According to a ...   \n",
              "\n",
              "                 created_at                                         embeddings  \n",
              "0 2020-01-17 15:15:54+00:00  [-0.0176332239061594, -0.018955715000629425, 0...  \n",
              "1 2020-02-05 00:57:48+00:00  [-0.02314981445670128, -0.009875185787677765, ...  \n",
              "2 2020-02-06 04:08:30+00:00  [-0.022219592705368996, 0.0038568368181586266,...  \n",
              "3 2019-12-27 19:49:26+00:00  [-0.0222681425511837, -0.006929074414074421, -...  \n",
              "4 2019-12-26 18:11:04+00:00  [-0.026049431413412094, 0.00031084506190381944...  "
            ],
            "text/html": [
              "\n",
              "  <div id=\"df-c394a461-ac77-4058-89d2-a343b0c44dd1\" class=\"colab-df-container\">\n",
              "    <div>\n",
              "<style scoped>\n",
              "    .dataframe tbody tr th:only-of-type {\n",
              "        vertical-align: middle;\n",
              "    }\n",
              "\n",
              "    .dataframe tbody tr th {\n",
              "        vertical-align: top;\n",
              "    }\n",
              "\n",
              "    .dataframe thead th {\n",
              "        text-align: right;\n",
              "    }\n",
              "</style>\n",
              "<table border=\"1\" class=\"dataframe\">\n",
              "  <thead>\n",
              "    <tr style=\"text-align: right;\">\n",
              "      <th></th>\n",
              "      <th>user_id</th>\n",
              "      <th>status_id</th>\n",
              "      <th>status_text</th>\n",
              "      <th>created_at</th>\n",
              "      <th>embeddings</th>\n",
              "    </tr>\n",
              "  </thead>\n",
              "  <tbody>\n",
              "    <tr>\n",
              "      <th>0</th>\n",
              "      <td>999756421188202498</td>\n",
              "      <td>1218190214906155009</td>\n",
              "      <td>RT @jimsciutto: Immediate question for Starr a...</td>\n",
              "      <td>2020-01-17 15:15:54+00:00</td>\n",
              "      <td>[-0.0176332239061594, -0.018955715000629425, 0...</td>\n",
              "    </tr>\n",
              "    <tr>\n",
              "      <th>1</th>\n",
              "      <td>295393566</td>\n",
              "      <td>1224859633216630784</td>\n",
              "      <td>RT @village_jordan: Rand Paul on Senate floor ...</td>\n",
              "      <td>2020-02-05 00:57:48+00:00</td>\n",
              "      <td>[-0.02314981445670128, -0.009875185787677765, ...</td>\n",
              "    </tr>\n",
              "    <tr>\n",
              "      <th>2</th>\n",
              "      <td>1173707986038067200</td>\n",
              "      <td>1225270015110320128</td>\n",
              "      <td>RT @DemWrite: 🔥 Share this 1 million times 🔥  ...</td>\n",
              "      <td>2020-02-06 04:08:30+00:00</td>\n",
              "      <td>[-0.022219592705368996, 0.0038568368181586266,...</td>\n",
              "    </tr>\n",
              "    <tr>\n",
              "      <th>3</th>\n",
              "      <td>850117708477853697</td>\n",
              "      <td>1210648904716443649</td>\n",
              "      <td>RT @realDonaldTrump: “Pelosi’s stall tactics e...</td>\n",
              "      <td>2019-12-27 19:49:26+00:00</td>\n",
              "      <td>[-0.0222681425511837, -0.006929074414074421, -...</td>\n",
              "    </tr>\n",
              "    <tr>\n",
              "      <th>4</th>\n",
              "      <td>888143550638170112</td>\n",
              "      <td>1210261760835555328</td>\n",
              "      <td>RT @joncoopertweets: FUN FACT: According to a ...</td>\n",
              "      <td>2019-12-26 18:11:04+00:00</td>\n",
              "      <td>[-0.026049431413412094, 0.00031084506190381944...</td>\n",
              "    </tr>\n",
              "  </tbody>\n",
              "</table>\n",
              "</div>\n",
              "    <div class=\"colab-df-buttons\">\n",
              "\n",
              "  <div class=\"colab-df-container\">\n",
              "    <button class=\"colab-df-convert\" onclick=\"convertToInteractive('df-c394a461-ac77-4058-89d2-a343b0c44dd1')\"\n",
              "            title=\"Convert this dataframe to an interactive table.\"\n",
              "            style=\"display:none;\">\n",
              "\n",
              "  <svg xmlns=\"http://www.w3.org/2000/svg\" height=\"24px\" viewBox=\"0 -960 960 960\">\n",
              "    <path d=\"M120-120v-720h720v720H120Zm60-500h600v-160H180v160Zm220 220h160v-160H400v160Zm0 220h160v-160H400v160ZM180-400h160v-160H180v160Zm440 0h160v-160H620v160ZM180-180h160v-160H180v160Zm440 0h160v-160H620v160Z\"/>\n",
              "  </svg>\n",
              "    </button>\n",
              "\n",
              "  <style>\n",
              "    .colab-df-container {\n",
              "      display:flex;\n",
              "      gap: 12px;\n",
              "    }\n",
              "\n",
              "    .colab-df-convert {\n",
              "      background-color: #E8F0FE;\n",
              "      border: none;\n",
              "      border-radius: 50%;\n",
              "      cursor: pointer;\n",
              "      display: none;\n",
              "      fill: #1967D2;\n",
              "      height: 32px;\n",
              "      padding: 0 0 0 0;\n",
              "      width: 32px;\n",
              "    }\n",
              "\n",
              "    .colab-df-convert:hover {\n",
              "      background-color: #E2EBFA;\n",
              "      box-shadow: 0px 1px 2px rgba(60, 64, 67, 0.3), 0px 1px 3px 1px rgba(60, 64, 67, 0.15);\n",
              "      fill: #174EA6;\n",
              "    }\n",
              "\n",
              "    .colab-df-buttons div {\n",
              "      margin-bottom: 4px;\n",
              "    }\n",
              "\n",
              "    [theme=dark] .colab-df-convert {\n",
              "      background-color: #3B4455;\n",
              "      fill: #D2E3FC;\n",
              "    }\n",
              "\n",
              "    [theme=dark] .colab-df-convert:hover {\n",
              "      background-color: #434B5C;\n",
              "      box-shadow: 0px 1px 3px 1px rgba(0, 0, 0, 0.15);\n",
              "      filter: drop-shadow(0px 1px 2px rgba(0, 0, 0, 0.3));\n",
              "      fill: #FFFFFF;\n",
              "    }\n",
              "  </style>\n",
              "\n",
              "    <script>\n",
              "      const buttonEl =\n",
              "        document.querySelector('#df-c394a461-ac77-4058-89d2-a343b0c44dd1 button.colab-df-convert');\n",
              "      buttonEl.style.display =\n",
              "        google.colab.kernel.accessAllowed ? 'block' : 'none';\n",
              "\n",
              "      async function convertToInteractive(key) {\n",
              "        const element = document.querySelector('#df-c394a461-ac77-4058-89d2-a343b0c44dd1');\n",
              "        const dataTable =\n",
              "          await google.colab.kernel.invokeFunction('convertToInteractive',\n",
              "                                                    [key], {});\n",
              "        if (!dataTable) return;\n",
              "\n",
              "        const docLinkHtml = 'Like what you see? Visit the ' +\n",
              "          '<a target=\"_blank\" href=https://colab.research.google.com/notebooks/data_table.ipynb>data table notebook</a>'\n",
              "          + ' to learn more about interactive tables.';\n",
              "        element.innerHTML = '';\n",
              "        dataTable['output_type'] = 'display_data';\n",
              "        await google.colab.output.renderOutput(dataTable, element);\n",
              "        const docLink = document.createElement('div');\n",
              "        docLink.innerHTML = docLinkHtml;\n",
              "        element.appendChild(docLink);\n",
              "      }\n",
              "    </script>\n",
              "  </div>\n",
              "\n",
              "\n",
              "<div id=\"df-5052b921-5073-4b69-b70e-cfa76bb4485c\">\n",
              "  <button class=\"colab-df-quickchart\" onclick=\"quickchart('df-5052b921-5073-4b69-b70e-cfa76bb4485c')\"\n",
              "            title=\"Suggest charts\"\n",
              "            style=\"display:none;\">\n",
              "\n",
              "<svg xmlns=\"http://www.w3.org/2000/svg\" height=\"24px\"viewBox=\"0 0 24 24\"\n",
              "     width=\"24px\">\n",
              "    <g>\n",
              "        <path d=\"M19 3H5c-1.1 0-2 .9-2 2v14c0 1.1.9 2 2 2h14c1.1 0 2-.9 2-2V5c0-1.1-.9-2-2-2zM9 17H7v-7h2v7zm4 0h-2V7h2v10zm4 0h-2v-4h2v4z\"/>\n",
              "    </g>\n",
              "</svg>\n",
              "  </button>\n",
              "\n",
              "<style>\n",
              "  .colab-df-quickchart {\n",
              "      --bg-color: #E8F0FE;\n",
              "      --fill-color: #1967D2;\n",
              "      --hover-bg-color: #E2EBFA;\n",
              "      --hover-fill-color: #174EA6;\n",
              "      --disabled-fill-color: #AAA;\n",
              "      --disabled-bg-color: #DDD;\n",
              "  }\n",
              "\n",
              "  [theme=dark] .colab-df-quickchart {\n",
              "      --bg-color: #3B4455;\n",
              "      --fill-color: #D2E3FC;\n",
              "      --hover-bg-color: #434B5C;\n",
              "      --hover-fill-color: #FFFFFF;\n",
              "      --disabled-bg-color: #3B4455;\n",
              "      --disabled-fill-color: #666;\n",
              "  }\n",
              "\n",
              "  .colab-df-quickchart {\n",
              "    background-color: var(--bg-color);\n",
              "    border: none;\n",
              "    border-radius: 50%;\n",
              "    cursor: pointer;\n",
              "    display: none;\n",
              "    fill: var(--fill-color);\n",
              "    height: 32px;\n",
              "    padding: 0;\n",
              "    width: 32px;\n",
              "  }\n",
              "\n",
              "  .colab-df-quickchart:hover {\n",
              "    background-color: var(--hover-bg-color);\n",
              "    box-shadow: 0 1px 2px rgba(60, 64, 67, 0.3), 0 1px 3px 1px rgba(60, 64, 67, 0.15);\n",
              "    fill: var(--button-hover-fill-color);\n",
              "  }\n",
              "\n",
              "  .colab-df-quickchart-complete:disabled,\n",
              "  .colab-df-quickchart-complete:disabled:hover {\n",
              "    background-color: var(--disabled-bg-color);\n",
              "    fill: var(--disabled-fill-color);\n",
              "    box-shadow: none;\n",
              "  }\n",
              "\n",
              "  .colab-df-spinner {\n",
              "    border: 2px solid var(--fill-color);\n",
              "    border-color: transparent;\n",
              "    border-bottom-color: var(--fill-color);\n",
              "    animation:\n",
              "      spin 1s steps(1) infinite;\n",
              "  }\n",
              "\n",
              "  @keyframes spin {\n",
              "    0% {\n",
              "      border-color: transparent;\n",
              "      border-bottom-color: var(--fill-color);\n",
              "      border-left-color: var(--fill-color);\n",
              "    }\n",
              "    20% {\n",
              "      border-color: transparent;\n",
              "      border-left-color: var(--fill-color);\n",
              "      border-top-color: var(--fill-color);\n",
              "    }\n",
              "    30% {\n",
              "      border-color: transparent;\n",
              "      border-left-color: var(--fill-color);\n",
              "      border-top-color: var(--fill-color);\n",
              "      border-right-color: var(--fill-color);\n",
              "    }\n",
              "    40% {\n",
              "      border-color: transparent;\n",
              "      border-right-color: var(--fill-color);\n",
              "      border-top-color: var(--fill-color);\n",
              "    }\n",
              "    60% {\n",
              "      border-color: transparent;\n",
              "      border-right-color: var(--fill-color);\n",
              "    }\n",
              "    80% {\n",
              "      border-color: transparent;\n",
              "      border-right-color: var(--fill-color);\n",
              "      border-bottom-color: var(--fill-color);\n",
              "    }\n",
              "    90% {\n",
              "      border-color: transparent;\n",
              "      border-bottom-color: var(--fill-color);\n",
              "    }\n",
              "  }\n",
              "</style>\n",
              "\n",
              "  <script>\n",
              "    async function quickchart(key) {\n",
              "      const quickchartButtonEl =\n",
              "        document.querySelector('#' + key + ' button');\n",
              "      quickchartButtonEl.disabled = true;  // To prevent multiple clicks.\n",
              "      quickchartButtonEl.classList.add('colab-df-spinner');\n",
              "      try {\n",
              "        const charts = await google.colab.kernel.invokeFunction(\n",
              "            'suggestCharts', [key], {});\n",
              "      } catch (error) {\n",
              "        console.error('Error during call to suggestCharts:', error);\n",
              "      }\n",
              "      quickchartButtonEl.classList.remove('colab-df-spinner');\n",
              "      quickchartButtonEl.classList.add('colab-df-quickchart-complete');\n",
              "    }\n",
              "    (() => {\n",
              "      let quickchartButtonEl =\n",
              "        document.querySelector('#df-5052b921-5073-4b69-b70e-cfa76bb4485c button');\n",
              "      quickchartButtonEl.style.display =\n",
              "        google.colab.kernel.accessAllowed ? 'block' : 'none';\n",
              "    })();\n",
              "  </script>\n",
              "</div>\n",
              "\n",
              "    </div>\n",
              "  </div>\n"
            ]
          },
          "metadata": {},
          "execution_count": 31
        }
      ]
    },
    {
      "cell_type": "code",
      "source": [
        "tweets_df.shape"
      ],
      "metadata": {
        "colab": {
          "base_uri": "https://localhost:8080/"
        },
        "id": "ULMmHCEN_onG",
        "outputId": "2d1976c5-b6c2-4f88-a84f-10dc8ae50466"
      },
      "execution_count": 34,
      "outputs": [
        {
          "output_type": "execute_result",
          "data": {
            "text/plain": [
              "(198477, 5)"
            ]
          },
          "metadata": {},
          "execution_count": 34
        }
      ]
    },
    {
      "cell_type": "markdown",
      "source": [
        "Saving CSV to drive:"
      ],
      "metadata": {
        "id": "hkOZyyS2SbEt"
      }
    },
    {
      "cell_type": "code",
      "source": [
        "status_embeddings_csv_filepath = os.path.join(DATA_DIRPATH, \"botometer_sample_max_50_openai_status_embeddings.csv\")\n",
        "tweets_df.to_csv(status_embeddings_csv_filepath, index=False)"
      ],
      "metadata": {
        "id": "_QvWANEiSbE3"
      },
      "execution_count": 33,
      "outputs": []
    },
    {
      "cell_type": "code",
      "source": [],
      "metadata": {
        "id": "TKRp7CRh_oF4"
      },
      "execution_count": null,
      "outputs": []
    },
    {
      "cell_type": "code",
      "source": [],
      "metadata": {
        "id": "6WcnjFKPE4xR"
      },
      "execution_count": null,
      "outputs": []
    },
    {
      "cell_type": "code",
      "source": [],
      "metadata": {
        "id": "TlotZx1R-fMZ"
      },
      "execution_count": null,
      "outputs": []
    },
    {
      "cell_type": "code",
      "source": [
        "##from pandas import concat\n",
        "##\n",
        "##limit = 1_000\n",
        "##offset = 0\n",
        "##\n",
        "##all = DataFrame()\n",
        "##\n",
        "##while offset < 5_500:\n",
        "##    sql = f\"\"\"\n",
        "##        SELECT s.user_id, s.status_id, s.status_text, s.created_at, emb.embeddings\n",
        "##        FROM `{DATASET_ADDRESS}.botometer_sample` s\n",
        "##        JOIN `{DATASET_ADDRESS}.botometer_sample_max_50_openai_status_embeddings` emb\n",
        "##            ON s.status_id = emb.status_id\n",
        "##        LIMIT {int(limit)}\n",
        "##        OFFSET {int(offset)}\n",
        "##    \"\"\"\n",
        "##\n",
        "##    batch = bq.query_to_df(sql, verbose=True)\n",
        "##    print(tweets_df.shape)\n",
        "##    if batch.empty:\n",
        "##        print(\"ALL DONE!\")\n",
        "##        break\n",
        "##\n",
        "##    concat(all, batch)\n",
        "##    offset += limit\n",
        "\n",
        ""
      ],
      "metadata": {
        "id": "B9bIY-wb-fHb"
      },
      "execution_count": null,
      "outputs": []
    }
  ]
}